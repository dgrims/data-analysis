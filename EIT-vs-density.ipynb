{
 "cells": [
  {
   "cell_type": "code",
   "execution_count": 1,
   "metadata": {},
   "outputs": [],
   "source": [
    "import sys\n",
    "import numpy as np\n",
    "sys.path.insert(0, '/home/david/Institut/rydanalysis/')\n",
    "from rydanalysis import *\n",
    "import matplotlib.pyplot as plt\n",
    "import seaborn as sns\n",
    "import matplotlib as mpl\n",
    "from scipy import interpolate\n",
    "mpl.rc('image', cmap='afmhot')\n",
    "sns.set_style(\"whitegrid\")\n",
    "from lmfit import Model,Parameters"
   ]
  },
  {
   "cell_type": "code",
   "execution_count": 2,
   "metadata": {},
   "outputs": [],
   "source": [
    "from scipy import ndimage"
   ]
  },
  {
   "cell_type": "code",
   "execution_count": 3,
   "metadata": {},
   "outputs": [],
   "source": [
    "seq = ExpSequence(\"/home/david/Institut/2019_IEI_new/July/16/The-truth-about-LZ\")\n",
    "#shot = SingleShot(\"/home/david/Institut/2019_IEI/July/02/scanblueresonance_FINAL_averaged_images/2019-06-05_00.fts\")"
   ]
  },
  {
   "cell_type": "code",
   "execution_count": 4,
   "metadata": {},
   "outputs": [
    {
     "name": "stderr",
     "output_type": "stream",
     "text": [
      "/home/david/Institut/rydanalysis/rydanalysis/single_shot/image_processing.py:20: RuntimeWarning: divide by zero encountered in true_divide\n",
      "  trans = atoms/light\n",
      "/home/david/Institut/rydanalysis/rydanalysis/single_shot/image_processing.py:20: RuntimeWarning: invalid value encountered in true_divide\n",
      "  trans = atoms/light\n",
      "/home/david/Institut/rydanalysis/rydanalysis/single_shot/image_processing.py:22: RuntimeWarning: invalid value encountered in greater_equal\n",
      "  np.place(trans,trans>=1,1)\n"
     ]
    }
   ],
   "source": [
    "variables= seq.variables.copy()\n",
    "variables.insert(0,'fitted_amp',0)\n",
    "variables.insert(0,'pixel_sum',0)\n",
    "\n",
    "for i,shot in enumerate(seq.iter_single_shots()):\n",
    "    image=shot.image\n",
    "    absorb = calc_absorbtion_image(image)\n",
    "    absorb = crop_image(absorb,xslice=slice(10,90),yslice=slice(10,380))\n",
    "    od = absorbtion_to_OD(absorb)\n",
    "    shot.optical_density = od"
   ]
  },
  {
   "cell_type": "code",
   "execution_count": 5,
   "metadata": {},
   "outputs": [],
   "source": [
    "#od = ndimage.gaussian_filter(od, 4, order=0, output=None, mode='constant', cval=0.0, truncate=4.0)\n",
    "\n",
    "def fit2dGaussian(image):\n",
    "    image = ndimage.gaussian_filter(image, 8, order=0, output=None, mode='constant', cval=0.0, truncate=4.0)\n",
    "    fit = Fit2dGaussian(image)\n",
    "    fit.params = fit.guess(image)\n",
    "    #fit.params = restrict_to_init(fit.params,dev=0.2)\n",
    "    #fit.params['amp'].max = fit.params['amp'].value*(1+0.5)\n",
    "    #fit.params['amp'].min = fit.params['amp'].value*(1-0.5)\n",
    "    #fit.params['cen_x'].max = fit.params['amp'].value*(1+0.1)\n",
    "    #fit.params['cen_x'].min = fit.params['amp'].value*(1-0.1)\n",
    "    #fit.params['cen_y'].max = fit.params['amp'].value*(1+0.1)\n",
    "    #fit.params['cen_y'].min = fit.params['amp'].value*(1-0.1)\n",
    "    #fit.params['offset'].max = fit.params['amp'].value*(1+2)\n",
    "    \n",
    "    #fit.params['offset'].min = fit.params['amp'].value*(1-2)\n",
    "\n",
    "    fit.fit_data()\n",
    "    return fittoSeries(fit)"
   ]
  },
  {
   "cell_type": "code",
   "execution_count": 6,
   "metadata": {},
   "outputs": [],
   "source": [
    "def fit22dGaussian(image):\n",
    "    #image = ndimage.gaussian_filter(image, 8, order=0, output=None, mode='constant', cval=0.0, truncate=4.0)\n",
    "    fit = Fit2d2Gaussian(image)\n",
    "    #fit.params = fit.guess(image)\n",
    "    # cloud distribution\n",
    "    params = fit.params\n",
    "    params.add('amp1',value=0.0)\n",
    "    params.add('cen_y1',value=160,min=140,max=180)\n",
    "    params.add('cen_x1',value=45,min=30,max=60)\n",
    "    params.add('sig_x1',value=5,min=30,max=200)\n",
    "    params.add('sig_y1',value=5,min=30,max=200)\n",
    "    params.add('theta1',value=0,min=0,max=np.pi)\n",
    "\n",
    "    # EIT/Autler-Townes-dip\n",
    "    params.add('amp2',value=0.00)\n",
    "    params.add('cen_y2',value=171.2,min=165,max=175)\n",
    "    params.add('cen_x2',value=48.1,min=45,max=55)\n",
    "    params.add('sig_x2',value=10,min=3,max=15)\n",
    "    params.add('sig_y2',expr='sig_x2')\n",
    "    params.add('theta2',value=0,min=0,max=np.pi)\n",
    "\n",
    "    # offset\n",
    "    params.add('offset',value=0)\n",
    "    fit.params = params\n",
    "    fit.fit_data()\n",
    "    return fit\n"
   ]
  },
  {
   "cell_type": "code",
   "execution_count": 7,
   "metadata": {},
   "outputs": [],
   "source": [
    "def Series2Parameter(s):\n",
    "    p = Parameters()\n",
    "    keys = ['value','min','max','vary']\n",
    "    for l in s.groupby(level=0):\n",
    "        print(l[1])\n",
    "        i = l[1:]\n",
    "        name = i[0]\n",
    "        kwargs = {k: i[1][name][k] for k in keys}\n",
    "        p.add(name, **kwargs)\n",
    "    return p"
   ]
  },
  {
   "cell_type": "code",
   "execution_count": 8,
   "metadata": {},
   "outputs": [],
   "source": [
    "def stderr_weighted_average(g):\n",
    "    rel_err = g.amp.stderr/g.amp.value\n",
    "    weights = 1/rel_err\n",
    "    return (g.image_od * weights).sum()/weights.sum()"
   ]
  },
  {
   "cell_type": "code",
   "execution_count": 9,
   "metadata": {},
   "outputs": [],
   "source": [
    "pars = Fit2dGaussian(np.array([[0,0]])).params\n"
   ]
  },
  {
   "cell_type": "code",
   "execution_count": 10,
   "metadata": {},
   "outputs": [],
   "source": [
    "data = seq.variables.copy()\n",
    "data['image_od'] = [shot.optical_density[0] for shot in seq.iter_single_shots()]\n",
    "fit_res = data['image_od'].apply(fit2dGaussian)\n",
    "fit_res.to_csv('fit_res.csv')\n",
    "fit_res[data.columns] = data\n",
    "data = fit_res"
   ]
  },
  {
   "cell_type": "code",
   "execution_count": 11,
   "metadata": {},
   "outputs": [],
   "source": [
    "sums = data.image_od.apply(np.sum)"
   ]
  },
  {
   "cell_type": "markdown",
   "metadata": {},
   "source": []
  },
  {
   "cell_type": "code",
   "execution_count": 12,
   "metadata": {},
   "outputs": [],
   "source": [
    "data1 =data[ data.amp.value <=1 ]\n",
    "#data1 =data1[ data['fitted_amp'] > -0.1]"
   ]
  },
  {
   "cell_type": "code",
   "execution_count": 13,
   "metadata": {},
   "outputs": [
    {
     "data": {
      "text/plain": [
       "<matplotlib.axes._subplots.AxesSubplot at 0x7fed1cc0af60>"
      ]
     },
     "execution_count": 13,
     "metadata": {},
     "output_type": "execute_result"
    },
    {
     "data": {
      "image/png": "[encoded data removed]",
      "text/plain": [
       "<Figure size 576x360 with 1 Axes>"
      ]
     },
     "metadata": {
      "needs_background": "light"
     },
     "output_type": "display_data"
    }
   ],
   "source": [
    "plt.figure(figsize=(8,5))\n",
    "sns.scatterplot(x=data1.MWduration,y=sums,markers='O',hue_norm=(0,0.0015))"
   ]
  },
  {
   "cell_type": "code",
   "execution_count": 14,
   "metadata": {},
   "outputs": [
    {
     "data": {
      "text/plain": [
       "<matplotlib.axes._subplots.AxesSubplot at 0x7fed50506978>"
      ]
     },
     "execution_count": 14,
     "metadata": {},
     "output_type": "execute_result"
    },
    {
     "data": {
      "image/png": "[encoded data removed]",
      "text/plain": [
       "<Figure size 576x360 with 1 Axes>"
      ]
     },
     "metadata": {
      "needs_background": "light"
     },
     "output_type": "display_data"
    }
   ],
   "source": [
    "plt.figure(figsize=(8,5))\n",
    "sns.scatterplot(x=data1.MWduration,y=data1.amp.value,hue = data.amp.stderr,markers='O',hue_norm=(0,0.0015))"
   ]
  },
  {
   "cell_type": "code",
   "execution_count": 15,
   "metadata": {},
   "outputs": [
    {
     "name": "stderr",
     "output_type": "stream",
     "text": [
      "/home/david/Downloads/.anaconda3/envs/mypy3/lib/python3.7/site-packages/ipykernel_launcher.py:2: SettingWithCopyWarning: \n",
      "A value is trying to be set on a copy of a slice from a DataFrame.\n",
      "Try using .loc[row_indexer,col_indexer] = value instead\n",
      "\n",
      "See the caveats in the documentation: http://pandas.pydata.org/pandas-docs/stable/indexing.html#indexing-view-versus-copy\n",
      "  \n"
     ]
    }
   ],
   "source": [
    "results = pd.DataFrame()\n",
    "data1['fitted_amp_binning'] =  pd.cut(data1.amp.value,bins = np.linspace(0.2,0.7,10))\n",
    "grouping = data1.groupby('fitted_amp_binning')\n",
    "results['averaged_od'] = grouping.apply(stderr_weighted_average)"
   ]
  },
  {
   "cell_type": "code",
   "execution_count": 16,
   "metadata": {},
   "outputs": [],
   "source": [
    "fit = results['averaged_od'].apply(fit22dGaussian)\n",
    "fit_res = fit.apply(fittoSeries)"
   ]
  },
  {
   "cell_type": "code",
   "execution_count": 17,
   "metadata": {},
   "outputs": [],
   "source": [
    "data1=data1.sort_values(('amp','value'))"
   ]
  },
  {
   "cell_type": "code",
   "execution_count": 18,
   "metadata": {},
   "outputs": [
    {
     "ename": "TypeError",
     "evalue": "rolling() missing 1 required positional argument: 'window'",
     "output_type": "error",
     "traceback": [
      "\u001b[0;31m---------------------------------------------------------------------------\u001b[0m",
      "\u001b[0;31mTypeError\u001b[0m                                 Traceback (most recent call last)",
      "\u001b[0;32m<ipython-input-18-7728129ac5a2>\u001b[0m in \u001b[0;36m<module>\u001b[0;34m\u001b[0m\n\u001b[0;32m----> 1\u001b[0;31m \u001b[0mdata1\u001b[0m\u001b[0;34m.\u001b[0m\u001b[0mrolling\u001b[0m\u001b[0;34m(\u001b[0m\u001b[0;34m)\u001b[0m\u001b[0;34m\u001b[0m\u001b[0;34m\u001b[0m\u001b[0m\n\u001b[0m",
      "\u001b[0;31mTypeError\u001b[0m: rolling() missing 1 required positional argument: 'window'"
     ]
    }
   ],
   "source": [
    "data1.rolling()"
   ]
  },
  {
   "cell_type": "code",
   "execution_count": null,
   "metadata": {},
   "outputs": [],
   "source": [
    "fit_res['3lvl_center_od'] = fit.apply(lambda x: x.eval((x.params['cen_x2'].value,x.params['cen_y2'].value)))\n",
    "fit_res['3lvl_center_od_std'] = np.sqrt(np.square(fit_res.amp2.stderr) +np.square(fit_res.amp1.stderr**2))\n",
    "fit_res['2lvl_center_od'] = fit_res['3lvl_center_od']-fit_res.amp2.value\n",
    "fit_res['2lvl_center_od_std'] = fit_res.amp1.stderr\n",
    "fit_res['3vs2lvl_od'] = fit_res['3lvl_center_od']/fit_res['2lvl_center_od']"
   ]
  },
  {
   "cell_type": "code",
   "execution_count": null,
   "metadata": {},
   "outputs": [],
   "source": [
    "np.sqrt(4)"
   ]
  },
  {
   "cell_type": "code",
   "execution_count": null,
   "metadata": {},
   "outputs": [],
   "source": [
    "def three_vs_two_lvl(n,r0,n0):\n",
    "    fbl = n0*n**(4./5)\n",
    "    return (r0 + fbl)/(1+fbl)\n",
    "model = Model(three_vs_two_lvl)\n",
    "params = model.make_params()\n",
    "params['r0'].value = 0.66\n",
    "params['n0'].value = 1"
   ]
  },
  {
   "cell_type": "code",
   "execution_count": null,
   "metadata": {},
   "outputs": [],
   "source": [
    "out = model.fit(fit_res['3vs2lvl_od'].values,n=fit_res['2lvl_center_od'],params=params,nan_policy='omit')"
   ]
  },
  {
   "cell_type": "code",
   "execution_count": null,
   "metadata": {},
   "outputs": [],
   "source": [
    "fit_res.plot(y=\"3vs2lvl_od\",x=\"2lvl_center_od\",style='o')\n",
    "x=np.arange(0.2,0.8,0.01)\n",
    "plt.plot(x,model.eval(n =x ,params=out.params))"
   ]
  },
  {
   "cell_type": "code",
   "execution_count": null,
   "metadata": {},
   "outputs": [],
   "source": [
    "out.params"
   ]
  },
  {
   "cell_type": "code",
   "execution_count": null,
   "metadata": {},
   "outputs": [],
   "source": [
    "for image in results.averaged_od:\n",
    "    fig,ax = plt.subplots(figsize=(20,10))\n",
    "    \n",
    "    plt.imshow(image,vmin=0,vmax=1.5)"
   ]
  },
  {
   "cell_type": "code",
   "execution_count": null,
   "metadata": {},
   "outputs": [],
   "source": [
    "for fit in results.fit:\n",
    "    fit.fit_object\n",
    "    fig,ax = plt.subplots(figsize=(20,10))\n",
    "    fit.plot(ax=ax,image_kwargs=dict(vmin=0.,vmax=0.8))"
   ]
  },
  {
   "cell_type": "code",
   "execution_count": null,
   "metadata": {},
   "outputs": [],
   "source": [
    "results=pd.DataFrame()\n",
    "results['averaged_od'] = data.groupby('MWduration')['image_od'].apply(np.mean)\n",
    "results['fit']=results['averaged_od'].apply(fit22dGaussian)\n",
    "#results['par'] = results['fit'].apply(lambda x: x.params)\n",
    "results['center_od_ratio'] = results['fit'].apply(center_od_ratio)\n",
    "results['fitted_amp1'] = results['fit'].apply(lambda x: x.params['amp1'].value)\n",
    "results['fitted_amp2'] = results['fit'].apply(lambda x: x.params['amp2'].value)"
   ]
  },
  {
   "cell_type": "code",
   "execution_count": null,
   "metadata": {},
   "outputs": [],
   "source": [
    "results.center_od_ratio.plot(style='o')\n",
    "#results.fitted_amp2.plot(style = 'o')"
   ]
  },
  {
   "cell_type": "code",
   "execution_count": null,
   "metadata": {},
   "outputs": [],
   "source": [
    "results.plot(y='center_od_ratio',x='fitted_amp1',style='o')"
   ]
  },
  {
   "cell_type": "code",
   "execution_count": null,
   "metadata": {},
   "outputs": [],
   "source": [
    "for fit in results.fit:\n",
    "    fit.fit_object\n",
    "    fig,ax = plt.subplots(figsize=(20,10))\n",
    "    fit.plot(ax=ax,image_kwargs=dict(vmin=0.,vmax=0.8))"
   ]
  }
 ],
 "metadata": {
  "kernelspec": {
   "display_name": "Python 3",
   "language": "python",
   "name": "python3"
  },
  "language_info": {
   "codemirror_mode": {
    "name": "ipython",
    "version": 3
   },
   "file_extension": ".py",
   "mimetype": "text/x-python",
   "name": "python",
   "nbconvert_exporter": "python",
   "pygments_lexer": "ipython3",
   "version": "3.7.3"
  }
 },
 "nbformat": 4,
 "nbformat_minor": 2
}
