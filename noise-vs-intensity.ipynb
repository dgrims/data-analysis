{
 "cells": [
  {
   "cell_type": "code",
   "execution_count": 1,
   "metadata": {},
   "outputs": [],
   "source": [
    "from prefect import Flow,task, Task,unmapped, Parameter\n",
    "import sys\n",
    "import os\n",
    "from os.path import join, splitext\n",
    "import matplotlib.pyplot as plt\n",
    "from pandas import to_datetime\n",
    "import xarray as xr\n",
    "from scipy import ndimage, integrate"
   ]
  },
  {
   "cell_type": "code",
   "execution_count": 2,
   "metadata": {},
   "outputs": [],
   "source": [
    "\n",
    "import plotly.graph_objects as go\n"
   ]
  },
  {
   "cell_type": "markdown",
   "metadata": {},
   "source": [
    "import plotly\n",
    "plotly.tools.set_credentials_file(username='dgrimshandl', api_key='••••••••••')"
   ]
  },
  {
   "cell_type": "code",
   "execution_count": 3,
   "metadata": {},
   "outputs": [],
   "source": [
    "# path of the rydanalysis library\n",
    "sys.path.insert(0, '/home/david/Institut/data-analysis/rydanalysis/')\n",
    "from rydanalysis import *"
   ]
  },
  {
   "cell_type": "code",
   "execution_count": 4,
   "metadata": {},
   "outputs": [],
   "source": [
    "old_data_root ='/home/david/Institut/2019_IEI'\n",
    "data_root ='/home/david/Institut/2019_IEI_new'\n",
    "analysis_root='/home/david/Institut/analysis'\n",
    "seq_path = \"October/22/OmegaPScanFinalFinalFinal/\""
   ]
  },
  {
   "cell_type": "code",
   "execution_count": 5,
   "metadata": {},
   "outputs": [],
   "source": [
    "seq = ExpSequence(join(data_root,seq_path))"
   ]
  },
  {
   "cell_type": "code",
   "execution_count": 6,
   "metadata": {},
   "outputs": [
    {
     "name": "stdout",
     "output_type": "stream",
     "text": [
      "CPU times: user 27.8 s, sys: 2.05 s, total: 29.9 s\n",
      "Wall time: 29.9 s\n"
     ]
    }
   ],
   "source": [
    "%%time\n",
    "ds = seq.raw_data.get_images()"
   ]
  },
  {
   "cell_type": "code",
   "execution_count": 7,
   "metadata": {},
   "outputs": [],
   "source": [
    "ref = ds['image_03']\n",
    "atoms = ds['image_01']\n",
    "dark = ds['image_05']\n",
    "\n",
    "xslice=slice(10,90)\n",
    "yslice=slice(10,380)\n",
    "\n",
    "dark = dark[:,xslice,yslice]\n",
    "ref = ref[:,xslice,yslice]"
   ]
  },
  {
   "cell_type": "code",
   "execution_count": 8,
   "metadata": {},
   "outputs": [],
   "source": [
    "std_shot = ref.std(dim=['x','y'])\n",
    "mean_shot = ref.mean(dim=['x','y'])"
   ]
  },
  {
   "cell_type": "code",
   "execution_count": 9,
   "metadata": {},
   "outputs": [],
   "source": [
    "std = ref.groupby('pABSx').std(dim='shot')"
   ]
  },
  {
   "cell_type": "code",
   "execution_count": 10,
   "metadata": {},
   "outputs": [],
   "source": [
    "std_seq = ref.std(dim='shot')\n",
    "mean_seq = ref.mean(dim='shot')"
   ]
  },
  {
   "cell_type": "code",
   "execution_count": 11,
   "metadata": {},
   "outputs": [],
   "source": [
    "std_p = ref.groupby('pABSx').std('shot')\n",
    "mean_p = ref.groupby('pABSx').mean('shot')"
   ]
  },
  {
   "cell_type": "code",
   "execution_count": 12,
   "metadata": {},
   "outputs": [],
   "source": [
    "intens = ref.mean(('x','y'))\n",
    "intens_mean = intens.groupby('pABSx').mean('shot')\n",
    "intens_std = intens.groupby('pABSx').std('shot')"
   ]
  },
  {
   "cell_type": "code",
   "execution_count": 50,
   "metadata": {},
   "outputs": [],
   "source": [
    "bg = dark.mean()"
   ]
  },
  {
   "cell_type": "code",
   "execution_count": null,
   "metadata": {},
   "outputs": [],
   "source": [
    "fig = go.FigureWidget()\n",
    "\n",
    "fig.add_scattergl(x=mean_shot,y=std_shot,mode='markers');\n",
    "fig.add_scattergl(x=mean_shot,y=std_shot,mode='markers');\n",
    "fig.add_scattergl(x=mean_shot,y=std_shot,mode='markers');\n"
   ]
  },
  {
   "cell_type": "code",
   "execution_count": 47,
   "metadata": {},
   "outputs": [
    {
     "data": {
      "application/vnd.jupyter.widget-view+json": {
       "model_id": "e679a0d0c60b4272967a3df7b60dcc5c",
       "version_major": 2,
       "version_minor": 0
      },
      "text/plain": [
       "FigureWidget({\n",
       "    'data': [{'nbinsx': 400,\n",
       "              'type': 'histogram',\n",
       "              'uid': '4ebff5bd-…"
      ]
     },
     "metadata": {},
     "output_type": "display_data"
    }
   ],
   "source": [
    "fhist = go.FigureWidget()\n",
    "fhist.add_histogram(x=intens,nbinsx=400)\n",
    "fhist.update_xaxes(title_text = 'accumulated intensity [counts/pixel]')\n",
    "fhist.update_yaxes(title_text = '# shots')"
   ]
  },
  {
   "cell_type": "code",
   "execution_count": 49,
   "metadata": {},
   "outputs": [
    {
     "data": {
      "application/vnd.jupyter.widget-view+json": {
       "model_id": "0367221f8b4f4e6682adb17a070ee2bc",
       "version_major": 2,
       "version_minor": 0
      },
      "text/plain": [
       "FigureWidget({\n",
       "    'data': [{'mode': 'markers',\n",
       "              'type': 'scattergl',\n",
       "              'uid': 'f9414…"
      ]
     },
     "metadata": {},
     "output_type": "display_data"
    }
   ],
   "source": [
    "fig2 = go.FigureWidget()\n",
    "\n",
    "fig2.add_scattergl(x=intens_mean-bg,y=intens_std,mode='markers')\n",
    "fig2.update_xaxes(title_text=\"mean accumulated intensity [counts/pixel]\");\n",
    "fig2.update_yaxes(title_text=\"standard deviation [counts/pixel]\")"
   ]
  },
  {
   "cell_type": "code",
   "execution_count": 66,
   "metadata": {},
   "outputs": [],
   "source": [
    "fig.update_layout(xaxis_type=\"log\", \n",
    "                  yaxis_type=\"log\")\n",
    "fig.update_xaxes(title_text=\"mean intensity [counts]\");\n",
    "fig.update_yaxes(title_text=\"standard deviation [counts]\");"
   ]
  },
  {
   "cell_type": "code",
   "execution_count": 65,
   "metadata": {},
   "outputs": [],
   "source": [
    "fig.data[0].y= std_p[:,52,185]\n",
    "fig.data[0].x= mean_p[:,52,185]-bg\n",
    "fig.data[0].name='single pixel'"
   ]
  },
  {
   "cell_type": "code",
   "execution_count": 63,
   "metadata": {},
   "outputs": [],
   "source": [
    "fig.data[1].x= np.linspace(fig.data[2].x.min(),fig.data[2].x.max(),10)\n",
    "fig.data[1].y= np.sqrt(np.linspace(max(fig.data[2].x.min(),0),fig.data[2].x.max(),10))\n",
    "fig.data[1].mode='lines'\n",
    "fig.data[1].name='$\\sqrt{}$'"
   ]
  },
  {
   "cell_type": "code",
   "execution_count": 64,
   "metadata": {},
   "outputs": [
    {
     "data": {
      "application/vnd.jupyter.widget-view+json": {
       "model_id": "966affa2ecb645198d7a9cb4b6e45bfa",
       "version_major": 2,
       "version_minor": 0
      },
      "text/plain": [
       "FigureWidget({\n",
       "    'data': [{'mode': 'markers',\n",
       "              'type': 'scattergl',\n",
       "              'uid': '1ddce…"
      ]
     },
     "metadata": {},
     "output_type": "display_data"
    }
   ],
   "source": [
    "#fig.add_scatter(x=std_p[:,52,185],y=std_p[:,52,185])\n",
    "fig.data[2].x=mean_p.mean(('x','y'))-bg\n",
    "fig.data[2].y=std_p.mean(('x','y'))\n",
    "fig.data[2].error_y=dict(array=std_p.std(('x','y')).values)\n",
    "fig.data[2].mode='lines+markers'\n",
    "fig.data[2].name='average over all pixels'\n",
    "fig"
   ]
  }
 ],
 "metadata": {
  "kernelspec": {
   "display_name": "Python 3",
   "language": "python",
   "name": "python3"
  },
  "language_info": {
   "codemirror_mode": {
    "name": "ipython",
    "version": 3
   },
   "file_extension": ".py",
   "mimetype": "text/x-python",
   "name": "python",
   "nbconvert_exporter": "python",
   "pygments_lexer": "ipython3",
   "version": "3.7.3"
  }
 },
 "nbformat": 4,
 "nbformat_minor": 4
}
