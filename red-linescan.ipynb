{
 "cells": [
  {
   "cell_type": "code",
   "execution_count": 1,
   "metadata": {},
   "outputs": [],
   "source": [
    "import sys\n",
    "import numpy as np\n",
    "sys.path.insert(0, '/home/david/Institut/rydanalysis/')\n",
    "from rydanalysis import *\n",
    "import matplotlib.pyplot as plt\n",
    "import seaborn as sns\n",
    "import matplotlib as mpl\n",
    "from scipy import interpolate\n",
    "mpl.rc('image', cmap='viridis')\n",
    "sns.set_style(\"darkgrid\")\n",
    "from lmfit import Model,Parameters\n",
    "import xarray as xr\n",
    "import plotly.express as px"
   ]
  },
  {
   "cell_type": "code",
   "execution_count": 2,
   "metadata": {},
   "outputs": [],
   "source": [
    "from scipy import ndimage"
   ]
  },
  {
   "cell_type": "code",
   "execution_count": 3,
   "metadata": {},
   "outputs": [],
   "source": [
    "binning_scale=1"
   ]
  },
  {
   "cell_type": "code",
   "execution_count": 4,
   "metadata": {},
   "outputs": [],
   "source": [
    "seq = ExpSequence(\"/home/david/Institut/2019_IEI_new/July/24/redscan\")\n",
    "#shot = SingleShot(\"/home/david/Institut/2019_IEI/July/02/scanblueresonance_FINAL_averaged_images/2019-06-05_00.fts\")"
   ]
  },
  {
   "cell_type": "code",
   "execution_count": 5,
   "metadata": {},
   "outputs": [
    {
     "name": "stderr",
     "output_type": "stream",
     "text": [
      "/home/david/Institut/rydanalysis/rydanalysis/single_shot/image_processing.py:20: RuntimeWarning:\n",
      "\n",
      "divide by zero encountered in true_divide\n",
      "\n",
      "/home/david/Institut/rydanalysis/rydanalysis/single_shot/image_processing.py:20: RuntimeWarning:\n",
      "\n",
      "invalid value encountered in true_divide\n",
      "\n",
      "/home/david/Institut/rydanalysis/rydanalysis/single_shot/image_processing.py:9: RuntimeWarning:\n",
      "\n",
      "divide by zero encountered in log\n",
      "\n",
      "/home/david/Institut/rydanalysis/rydanalysis/single_shot/image_processing.py:9: RuntimeWarning:\n",
      "\n",
      "invalid value encountered in log\n",
      "\n"
     ]
    }
   ],
   "source": [
    "variables= seq.variables.copy()\n",
    "for i,shot in enumerate(seq.iter_single_shots()):\n",
    "    try:\n",
    "        image=shot.image\n",
    "        absorb = calc_absorbtion_image(image)\n",
    "        absorb = crop_image(absorb,xslice=slice(10,90),yslice=slice(10,380))\n",
    "        od = absorbtion_to_OD(absorb)\n",
    "        od = nn_replace_nonfinite(od,~np.isfinite(od))\n",
    "        shot.optical_density = od\n",
    "    except: pass"
   ]
  },
  {
   "cell_type": "code",
   "execution_count": 6,
   "metadata": {},
   "outputs": [],
   "source": [
    "try:seq.analysis['plots']=Directory('plots')\n",
    "except: pass\n",
    "plotdir = seq.analysis['plots'].path"
   ]
  },
  {
   "cell_type": "code",
   "execution_count": 7,
   "metadata": {},
   "outputs": [],
   "source": [
    "#od = ndimage.gaussian_filter(od, 4, order=0, output=None, mode='constant', cval=0.0, truncate=4.0)\n",
    "\n",
    "def fit2dGaussian(image):\n",
    "    image = ndimage.gaussian_filter(image, 8, order=0, output=None, mode='constant', cval=0.0, truncate=4.0)\n",
    "    fit = Fit2dGaussian(image)\n",
    "    fit.params = fit.guess(image)\n",
    "    #fit.params = restrict_to_init(fit.params,dev=0.2)\n",
    "    #fit.params['amp'].max = fit.params['amp'].value*(1+0.5)\n",
    "    #fit.params['amp'].min = fit.params['amp'].value*(1-0.5)\n",
    "    #fit.params['cen_x'].max = fit.params['amp'].value*(1+0.1)\n",
    "    #fit.params['cen_x'].min = fit.params['amp'].value*(1-0.1)\n",
    "    #fit.params['cen_y'].max = fit.params['amp'].value*(1+0.1)\n",
    "    #fit.params['cen_y'].min = fit.params['amp'].value*(1-0.1)\n",
    "    #fit.params['offset'].max = fit.params['amp'].value*(1+2)\n",
    "    \n",
    "    fit.params['offset'].vary = False\n",
    "    fit.params['offset'].value = 0\n",
    "    fit.params['amp'].min = 0\n",
    "    fit.fit_data()\n",
    "    return fittoSeries(fit)"
   ]
  },
  {
   "cell_type": "code",
   "execution_count": 8,
   "metadata": {},
   "outputs": [],
   "source": [
    "\n",
    "def fit22dGaussian(image):\n",
    "    model_twoG = Model(two_Gaussian)\n",
    "\n",
    "    params = Parameters()\n",
    "\n",
    "    params = model_twoG.make_params()\n",
    "\n",
    "\n",
    "\n",
    "    # cloud distribution\n",
    "    params.add('amp1',value=0.1)\n",
    "    params.add('cen_y1',value=128*binning_scale,min=100*binning_scale,max=200*binning_scale)\n",
    "    params.add('cen_x1',value=43*binning_scale,min=20*binning_scale,max=60*binning_scale)\n",
    "    params.add('sig_x1',value=27*binning_scale,min=10*binning_scale,max=100*binning_scale)\n",
    "    params.add('sig_y1',value=66*binning_scale,min=10*binning_scale,max=100*binning_scale)\n",
    "    params.add('theta1',value=0,min=-np.pi/10,max=np.pi/10)\n",
    "\n",
    "    # EIT/Autler-Townes-dip\n",
    "    params.add('amp2',value=0.00,vary=True)\n",
    "    params.add('cen_y2',value=150*binning_scale,min=140*binning_scale,max=160*binning_scale,vary=True)\n",
    "    params.add('cen_x2',value=39*binning_scale,min=36*binning_scale,max=48*binning_scale,vary=True)\n",
    "    params.add('sig_x2',value=5*binning_scale,min=3*binning_scale,max=8*binning_scale,vary=False)\n",
    "    #params.add('sigma_y2',value=10,min=3,max=15)\n",
    "    params.add('sig_y2',expr='sig_x2',vary=False)\n",
    "    params.add('theta2',value=0.0000001,min=0,max=np.pi,vary=False)\n",
    "\n",
    "    # offset\n",
    "    params.add('offset',value=0.000001,vary=False)\n",
    "    model = model_twoG\n",
    "    \n",
    "    shape = image.shape\n",
    "    x,y = np.mgrid[0:shape[0],0:shape[1]]\n",
    "    \n",
    "    image_flat=image.flatten() \n",
    "    #weights_flat=image_weights.flatten()\n",
    "    out = model.fit(image_flat,params,xy_mesh=(x,y))\n",
    "    return out"
   ]
  },
  {
   "cell_type": "code",
   "execution_count": 38,
   "metadata": {},
   "outputs": [],
   "source": [
    "def ThreeTwoTrans(Dp,Dp0,Dc,Dc0,g31,g21,Wc,k):\n",
    "    \"\"\"\n",
    "    Imaginary Part of the first order susceptibility\n",
    "    in the ladder scheme:\n",
    "    index 1 ~ ground state\n",
    "    index 2 ~ Rydberg state\n",
    "    index 3 ~ intermediate state\n",
    "    prefactor in units of MHz*m^3\n",
    "    density is in units of 10^15 1/m^3\n",
    "    detunings,rabi-frequencys and Decay rates in MHz\n",
    "    \"\"\"  \n",
    "    Dp=Dp-Dp0\n",
    "    Dc=Dc-Dc0\n",
    "    d = Dp-Dc\n",
    "\n",
    "    return (8* d**2 *g31+2*g21*(Wc**2 + g21*g31)) / abs(Wc**2 + (g31+1.j*2*Dp)*(g21+1.j*2*d))**2\n",
    "\n",
    "\n",
    "    "
   ]
  },
  {
   "cell_type": "code",
   "execution_count": 10,
   "metadata": {},
   "outputs": [],
   "source": [
    "def stderr_weighted_average(g):\n",
    "    rel_err = g.amp.stderr/g.amp.value\n",
    "    weights = 1/rel_err\n",
    "    return (g.image_od * weights).sum()/weights.sum()"
   ]
  },
  {
   "cell_type": "code",
   "execution_count": 11,
   "metadata": {},
   "outputs": [],
   "source": [
    "data = seq.variables.copy()"
   ]
  },
  {
   "cell_type": "code",
   "execution_count": 12,
   "metadata": {},
   "outputs": [],
   "source": [
    "data['image_od'] = [shot.optical_density[0] for shot in seq.iter_single_shots()]"
   ]
  },
  {
   "cell_type": "markdown",
   "metadata": {},
   "source": [
    "data['image_light'] = [shot.image[3] for shot in seq.iter_single_shots()]\n",
    "data['image_atoms'] = [shot.image[1] for shot in seq.iter_single_shots()]\n",
    "data['image_bg'] = [shot.image[5] for shot in seq.iter_single_shots()]\n",
    "\n",
    "data['light'] = data.image_light-data.image_bg\n",
    "data['atoms'] = data.image_atoms-data.image_bg\n",
    "data['diff'] = data.light- data.atoms"
   ]
  },
  {
   "cell_type": "code",
   "execution_count": 13,
   "metadata": {},
   "outputs": [],
   "source": [
    "fit_res = data['image_od'].apply(fit2dGaussian)\n",
    "fit_res.to_csv('fit_res.csv')\n",
    "fit_res[data.columns] = data\n",
    "data = fit_res"
   ]
  },
  {
   "cell_type": "markdown",
   "metadata": {},
   "source": [
    "Apply conditional filters to data set"
   ]
  },
  {
   "cell_type": "markdown",
   "metadata": {},
   "source": [
    "plt.figure(figsize=(12,8))\n",
    "sns.scatterplot(x=data.MWduration,y=data.amp.value,hue = data.amp.stderr,markers='O',hue_norm=(0,0.0010),ci='std')\n",
    "sns.lineplot(x=data.MWduration,y=data.amp.value)\n",
    "plt.ylabel(\"Fitted peak OD\")\n",
    "plt.savefig(os.path.join(plotdir,'peakOD_vs_MWduration_LZ2.svg'))"
   ]
  },
  {
   "cell_type": "markdown",
   "metadata": {},
   "source": [
    "fig,ax=plt.subplots(nrows=4,ncols=4,figsize=(20,20))\n",
    "for i,group in enumerate(data.groupby('MWduration')):\n",
    "    sns.distplot(group[1].amp.value,bins=7,ax=ax.flatten()[i])"
   ]
  },
  {
   "cell_type": "markdown",
   "metadata": {},
   "source": [
    "fig,ax=plt.subplots(nrows=4,ncols=4,figsize=(20,20))\n",
    "for i,group in enumerate(data.groupby('MWduration')):\n",
    "    sns.distplot(group[1].cen_y.value,bins=7,ax=ax.flatten()[i])"
   ]
  },
  {
   "cell_type": "markdown",
   "metadata": {},
   "source": [
    "### Group by *MWduration*"
   ]
  },
  {
   "cell_type": "markdown",
   "metadata": {},
   "source": [
    "## Fit EIT dip"
   ]
  },
  {
   "cell_type": "markdown",
   "metadata": {},
   "source": [
    "fit = data.image_od.apply(fit22dGaussian)"
   ]
  },
  {
   "cell_type": "markdown",
   "metadata": {},
   "source": [
    "fit_res = fit.apply(fittoSeries)"
   ]
  },
  {
   "cell_type": "code",
   "execution_count": 14,
   "metadata": {},
   "outputs": [],
   "source": [
    "var = 'dDDSred'"
   ]
  },
  {
   "cell_type": "code",
   "execution_count": 15,
   "metadata": {},
   "outputs": [],
   "source": [
    "mw_av = data.groupby(var)['image_od'].apply(np.mean)\n",
    "fit = mw_av.apply(fit22dGaussian)\n",
    "fit_res = fit.apply(fittoSeries)"
   ]
  },
  {
   "cell_type": "code",
   "execution_count": 24,
   "metadata": {},
   "outputs": [],
   "source": [
    "fit_res['3lvl_center_od'] = fit.apply(lambda x: x.eval(xy_mesh =(x.params['cen_x2'].value,x.params['cen_y2'].value))[0])\n",
    "\n",
    "fit_res['2lvl_center_od'] = fit_res['3lvl_center_od']-fit_res.amp2.value\n",
    "fit_res['32ratio'] = fit_res['3lvl_center_od']/fit_res['2lvl_center_od']\n",
    "\n",
    "fit_res['3lvl_center_od_std'] = fit.apply(lambda x: x.eval_uncertainty(xy_mesh =(x.params['cen_x2'].value,x.params['cen_y2'].value))[0])\n",
    "fit_res['3lvl_center_od_std'] = np.sqrt(fit_res['3lvl_center_od_std']**2 + fit_res.amp2.value**2)\n",
    "\n",
    "fit_res['32ratio_std'] = fit_res['32ratio'] * np.sqrt(fit_res['3lvl_center_od_std']**2 + fit_res['3lvl_center_od_std']**2)\n",
    "\n",
    "fit_res['binning'] = pd.cut(fit_res['2lvl_center_od'],bins = np.linspace(0.1,0.3,30))\n",
    "fit_res['binning0']=fit_res.binning.apply(lambda x: x.left)\n",
    "#sns.scatterplot(y=fit_res[\"3vs2lvl_od\"],x=fit_res[\"2lvl_center_od\"],ax = ax)\n",
    "#fit_res.plot(y=\"3vs2lvl_od\",x=\"2lvl_center_od\",style='o',ax = ax)\n",
    "res = fit_res#[fit_res['32ratio'] <= 1]\n",
    "out = pd.DataFrame()\n",
    "out['32ratio'] = res.groupby('binning0')['32ratio'].mean()\n",
    "out['std'] = res.groupby('binning0')['32ratio'].std()"
   ]
  },
  {
   "cell_type": "code",
   "execution_count": 62,
   "metadata": {},
   "outputs": [],
   "source": [
    "model32 = Model(ThreeTwoTrans,independent_vars=['Dp'])\n",
    "params32 = model32.make_params()\n",
    "params32.add('g31',value=6.02,min=4,max=8,vary=False)\n",
    "#params32.add('Dp',value=0,min=-1,max=1,vary=False)\n",
    "params32.add('Dp0',value=0,min=-1,max=1,vary=False)\n",
    "params32.add('g21',value=0.2,min=0,max=2,vary=False)\n",
    "params32.add('Wc',value=2.6,vary=True)\n",
    "params32.add('Dc',value=0.6,min=-2,max=2,vary=True)\n",
    "params32.add('Dc0',value=0,min=-1,max=1,vary=False)\n",
    "params32.add('k',value=0.4,min=-1,max=1,vary=True)"
   ]
  },
  {
   "cell_type": "code",
   "execution_count": 65,
   "metadata": {},
   "outputs": [
    {
     "data": {
      "image/png": "[encoded data removed]",
      "text/plain": [
       "<Figure size 720x504 with 1 Axes>"
      ]
     },
     "metadata": {
      "needs_background": "light"
     },
     "output_type": "display_data"
    }
   ],
   "source": [
    "fig,ax = plt.subplots(figsize=(10,7))\n",
    "#sns.scatterplot(data = res['3lvl_center_od'],ax=ax)\n",
    "f=model32.fit(res['3lvl_center_od'].values,params=params32,Dp=res['3lvl_center_od'].index.values)\n",
    "x = np.linspace(res.index.min(),res.index.max(),100)\n",
    "ax.plot(x,model32.eval(Dp=x,params=f.params))\n",
    "#ax.plot(x,model32.eval(Dp=x,params=params32))\n",
    "res['3lvl_center_od'].plot(style='--o')\n",
    "res['2lvl_center_od'].plot(style='--o') \n",
    "plt.ylabel('center OD')\n",
    "plt.legend()\n",
    "plt.savefig(os.path.join(plotdir,'OD_vs_{0}.pdf'.format(var)))\n"
   ]
  },
  {
   "cell_type": "code",
   "execution_count": 64,
   "metadata": {},
   "outputs": [
    {
     "name": "stdout",
     "output_type": "stream",
     "text": [
      "Name     Value      Min      Max   Stderr     Vary     Expr Brute_Step\n",
      "Dc     0.6828       -2        2     None     True     None     None\n",
      "Dc0         0       -1        1     None    False     None     None\n",
      "Dp0         0       -1        1     None    False     None     None\n",
      "Wc      1.449     -inf      inf     None     True     None     None\n",
      "g21       0.2        0        2     None    False     None     None\n",
      "g31      6.02        4        8     None    False     None     None\n",
      "k         0.4       -1        1     None     True     None     None\n"
     ]
    }
   ],
   "source": [
    "f.params.pretty_print()"
   ]
  },
  {
   "cell_type": "code",
   "execution_count": null,
   "metadata": {},
   "outputs": [],
   "source": [
    "for f,im in zip(fit,mw_av):\n",
    "    shape = im.shape\n",
    "    fig,ax = plt.subplots(2,1,figsize=(20,10))\n",
    "    ax[0].imshow(im,cmap='viridis',vmin=0,vmax=0.45)\n",
    "    ax[0].contour(f.best_fit.reshape(shape))\n",
    "    ax[1].imshow(f.residual.reshape(shape), cmap='coolwarm',vmin=-0.1,vmax=0.1)"
   ]
  }
 ],
 "metadata": {
  "kernelspec": {
   "display_name": "Python 3",
   "language": "python",
   "name": "python3"
  },
  "language_info": {
   "codemirror_mode": {
    "name": "ipython",
    "version": 3
   },
   "file_extension": ".py",
   "mimetype": "text/x-python",
   "name": "python",
   "nbconvert_exporter": "python",
   "pygments_lexer": "ipython3",
   "version": "3.7.3"
  }
 },
 "nbformat": 4,
 "nbformat_minor": 2
}
