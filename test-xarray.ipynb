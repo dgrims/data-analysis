{
 "cells": [
  {
   "cell_type": "code",
   "execution_count": 1,
   "metadata": {},
   "outputs": [],
   "source": [
    "import sys\n",
    "import numpy as np\n",
    "sys.path.insert(0, '/home/david/Institut/rydanalysis/')\n",
    "from rydanalysis import *\n",
    "import matplotlib.pyplot as plt\n",
    "import seaborn as sns\n",
    "import matplotlib as mpl\n",
    "from scipy import interpolate\n",
    "mpl.rc('image', cmap='viridis')\n",
    "sns.set_style(\"whitegrid\")\n",
    "from lmfit import Model,Parameters\n",
    "from scipy import ndimage\n",
    "import xarray as xr\n",
    "from tqdm import tqdm"
   ]
  },
  {
   "cell_type": "code",
   "execution_count": 2,
   "metadata": {},
   "outputs": [],
   "source": [
    "def fit22dGaussian(image):\n",
    "    model_twoG = Model(two_Gaussian)\n",
    "\n",
    "    params = Parameters()\n",
    "\n",
    "    params = model_twoG.make_params()\n",
    "\n",
    "\n",
    "\n",
    "    # cloud distribution\n",
    "    params.add('amp1',value=0.1)\n",
    "    params.add('cen_y1',value=128*binning_scale,min=100*binning_scale,max=200*binning_scale)\n",
    "    params.add('cen_x1',value=43*binning_scale,min=20*binning_scale,max=60*binning_scale)\n",
    "    params.add('sig_x1',value=27*binning_scale,min=10*binning_scale,max=100*binning_scale)\n",
    "    params.add('sig_y1',value=66*binning_scale,min=10*binning_scale,max=100*binning_scale)\n",
    "    params.add('theta1',value=0,min=-np.pi/10,max=np.pi/10)\n",
    "\n",
    "    # EIT/Autler-Townes-dip\n",
    "    params.add('amp2',value=0.00,vary=True)\n",
    "    params.add('cen_y2',value=150*binning_scale,min=140*binning_scale,max=160*binning_scale,vary=True)\n",
    "    params.add('cen_x2',value=39*binning_scale,min=36*binning_scale,max=48*binning_scale,vary=True)\n",
    "    params.add('sig_x2',value=5*binning_scale,min=3*binning_scale,max=8*binning_scale,vary=False)\n",
    "    #params.add('sigma_y2',value=10,min=3,max=15)\n",
    "    params.add('sig_y2',expr='sig_x2',vary=False)\n",
    "    params.add('theta2',value=0.0000001,min=0,max=np.pi,vary=False)\n",
    "\n",
    "    # offset\n",
    "    params.add('offset',value=0.000001,vary=False)\n",
    "    model = model_twoG\n",
    "    \n",
    "    shape = image.shape\n",
    "    x,y = np.mgrid[0:shape[0],0:shape[1]]\n",
    "    \n",
    "    image_flat=image.flatten() \n",
    "    #weights_flat=image_weights.flatten()\n",
    "    out = model.fit(image_flat,params,xy_mesh=(x,y))\n",
    "    return out"
   ]
  },
  {
   "cell_type": "code",
   "execution_count": 3,
   "metadata": {},
   "outputs": [],
   "source": [
    "#od = ndimage.gaussian_filter(od, 4, order=0, output=None, mode='constant', cval=0.0, truncate=4.0)\n",
    "\n",
    "def fit2dGaussian(image):\n",
    "    #image = ndimage.gaussian_filter(image, 8, order=0, output=None, mode='constant', cval=0.0, truncate=4.0)\n",
    "    fit = Fit2dGaussian(image)\n",
    "    params = Parameters()#fit.params\n",
    "    params.add('amp',value=0.1)\n",
    "    \n",
    "    params.add('cen_x',value=50,min=45,max=55)\n",
    "    params.add('cen_y',value=165,min=155,max=175)\n",
    "    \n",
    "    params.add('sig_x',value=51,min=30,max=100)\n",
    "    params.add('sig_y',value=160,min=140,max=180)\n",
    "    \n",
    "    params.add('theta',vary=False,value=0,min=0,max=np.pi)\n",
    "    #fit.params = fit.guess(image)\n",
    "    #fit.params = restrict_to_init(fit.params,dev=0.2)\n",
    "    #fit.params['amp'].max = fit.params['amp'].value*(1+0.5)\n",
    "    #fit.params['amp'].min = fit.params['amp'].value*(1-0.5)\n",
    "    #fit.params['cen_x'].max = fit.params['amp'].value*(1+0.1)\n",
    "    #fit.params['cen_x'].min = fit.params['amp'].value*(1-0.1)\n",
    "    #fit.params['cen_y'].max = fit.params['amp'].value*(1+0.1)\n",
    "    #fit.params['cen_y'].min = fit.params['amp'].value*(1-0.1)\n",
    "    #fit.params['offset'].max = fit.params['amp'].value*(1+2)\n",
    "    params.add('offset')\n",
    "    fit.params=params\n",
    "    fit.params['offset'].vary = False\n",
    "    fit.params['offset'].value = 0\n",
    "    \n",
    "    fit.fit_data()\n",
    "    return xr.DataArray(fit)"
   ]
  },
  {
   "cell_type": "code",
   "execution_count": 4,
   "metadata": {},
   "outputs": [
    {
     "name": "stderr",
     "output_type": "stream",
     "text": [
      "0it [00:00, ?it/s]/home/david/Institut/rydanalysis/rydanalysis/single_shot/image_processing.py:20: RuntimeWarning: divide by zero encountered in true_divide\n",
      "  trans = atoms/light\n",
      "/home/david/Institut/rydanalysis/rydanalysis/single_shot/image_processing.py:20: RuntimeWarning: invalid value encountered in true_divide\n",
      "  trans = atoms/light\n",
      "/home/david/Institut/rydanalysis/rydanalysis/single_shot/image_processing.py:9: RuntimeWarning: divide by zero encountered in log\n",
      "  return -np.log(1-image)\n",
      "/home/david/Institut/rydanalysis/rydanalysis/single_shot/image_processing.py:9: RuntimeWarning: invalid value encountered in log\n",
      "  return -np.log(1-image)\n",
      "1020it [00:07, 132.52it/s]\n"
     ]
    }
   ],
   "source": [
    "seq = ExpSequence(\"/home/david/Institut/2019_IEI_new/July/19/Linescan_lowOMEGA_lowDENSITY\")\n",
    "variables= seq.variables.copy()\n",
    "for i,shot in tqdm(enumerate(seq.iter_single_shots())):\n",
    "    image=shot.image\n",
    "    absorb = calc_absorbtion_image(image)\n",
    "    absorb = crop_image(absorb,xslice=slice(10,90),yslice=slice(10,380))\n",
    "    od = absorbtion_to_OD(absorb)\n",
    "    od =  nn_replace_nonfinite(od,~np.isfinite(od))\n",
    "    shot.optical_density = od\n",
    "data = seq.variables.copy()"
   ]
  },
  {
   "cell_type": "code",
   "execution_count": 11,
   "metadata": {},
   "outputs": [],
   "source": [
    "image_list = np.asarray([shot.image for shot in seq.iter_single_shots()])\n",
    "\n",
    "\n",
    "dod =  xr.DataArray(np.asarray([shot.optical_density[0] for shot in seq.iter_single_shots()])\n",
    "                    ,dims=('tmstp','pixrow','pixel'),coords={'tmstp':seq.variables.index})\n",
    "\n",
    "di = xr.DataArray(image_list,dims=('tmstp','image','pixrow','pixel'),coords={'tmstp':seq.variables.index,\n",
    "                                                            'image':['0','absorbed','2','ref','4','bg']})\n",
    "\n",
    "dv = xr.DataArray(seq.variables,dims=('tmstp','quantity'))\n",
    "ds = xr.Dataset(seq.variables)\n",
    "ds['od']=dod"
   ]
  },
  {
   "cell_type": "code",
   "execution_count": 12,
   "metadata": {},
   "outputs": [],
   "source": [
    "var = 'dDDSred'\n",
    "\n",
    "od_av = ds.groupby(var).mean(dim='tmstp')['od']"
   ]
  },
  {
   "cell_type": "code",
   "execution_count": 10,
   "metadata": {},
   "outputs": [
    {
     "data": {
      "text/plain": [
       "<xarray.DataArray (dDDSred: 51)>\n",
       "array([<rydanalysis.fitting.fitting_2d.fitting2d.Fit2dGaussian object at 0x7f4b4ccc92b0>,\n",
       "       <rydanalysis.fitting.fitting_2d.fitting2d.Fit2dGaussian object at 0x7f4b4cfb43c8>,\n",
       "       <rydanalysis.fitting.fitting_2d.fitting2d.Fit2dGaussian object at 0x7f4b4cf1bcf8>,\n",
       "       <rydanalysis.fitting.fitting_2d.fitting2d.Fit2dGaussian object at 0x7f4afe5b4710>,\n",
       "       <rydanalysis.fitting.fitting_2d.fitting2d.Fit2dGaussian object at 0x7f4aff5e8e48>,\n",
       "       <rydanalysis.fitting.fitting_2d.fitting2d.Fit2dGaussian object at 0x7f4b02e79278>,\n",
       "       <rydanalysis.fitting.fitting_2d.fitting2d.Fit2dGaussian object at 0x7f4afe5ae940>,\n",
       "       <rydanalysis.fitting.fitting_2d.fitting2d.Fit2dGaussian object at 0x7f4b4ca47f28>,\n",
       "       <rydanalysis.fitting.fitting_2d.fitting2d.Fit2dGaussian object at 0x7f4afc57f5c0>,\n",
       "       <rydanalysis.fitting.fitting_2d.fitting2d.Fit2dGaussian object at 0x7f4b00e1a5f8>,\n",
       "       <rydanalysis.fitting.fitting_2d.fitting2d.Fit2dGaussian object at 0x7f4afad16d30>,\n",
       "       <rydanalysis.fitting.fitting_2d.fitting2d.Fit2dGaussian object at 0x7f4afcd8da58>,\n",
       "       <rydanalysis.fitting.fitting_2d.fitting2d.Fit2dGaussian object at 0x7f4b4c081198>,\n",
       "       <rydanalysis.fitting.fitting_2d.fitting2d.Fit2dGaussian object at 0x7f4afad16d68>,\n",
       "       <rydanalysis.fitting.fitting_2d.fitting2d.Fit2dGaussian object at 0x7f4afb569438>,\n",
       "       <rydanalysis.fitting.fitting_2d.fitting2d.Fit2dGaussian object at 0x7f4afc56df28>,\n",
       "       <rydanalysis.fitting.fitting_2d.fitting2d.Fit2dGaussian object at 0x7f4af9d11278>,\n",
       "       <rydanalysis.fitting.fitting_2d.fitting2d.Fit2dGaussian object at 0x7f4afad09048>,\n",
       "       <rydanalysis.fitting.fitting_2d.fitting2d.Fit2dGaussian object at 0x7f4afcd81470>,\n",
       "       <rydanalysis.fitting.fitting_2d.fitting2d.Fit2dGaussian object at 0x7f4b0266b860>,\n",
       "       <rydanalysis.fitting.fitting_2d.fitting2d.Fit2dGaussian object at 0x7f4af9506b00>,\n",
       "       <rydanalysis.fitting.fitting_2d.fitting2d.Fit2dGaussian object at 0x7f4affe15710>,\n",
       "       <rydanalysis.fitting.fitting_2d.fitting2d.Fit2dGaussian object at 0x7f4afb569c50>,\n",
       "       <rydanalysis.fitting.fitting_2d.fitting2d.Fit2dGaussian object at 0x7f4af8cdfeb8>,\n",
       "       <rydanalysis.fitting.fitting_2d.fitting2d.Fit2dGaussian object at 0x7f4afddbb4e0>,\n",
       "       <rydanalysis.fitting.fitting_2d.fitting2d.Fit2dGaussian object at 0x7f4b123c72e8>,\n",
       "       <rydanalysis.fitting.fitting_2d.fitting2d.Fit2dGaussian object at 0x7f4afb569c88>,\n",
       "       <rydanalysis.fitting.fitting_2d.fitting2d.Fit2dGaussian object at 0x7f4b123c7860>,\n",
       "       <rydanalysis.fitting.fitting_2d.fitting2d.Fit2dGaussian object at 0x7f4b123de5c0>,\n",
       "       <rydanalysis.fitting.fitting_2d.fitting2d.Fit2dGaussian object at 0x7f4b123de048>,\n",
       "       <rydanalysis.fitting.fitting_2d.fitting2d.Fit2dGaussian object at 0x7f4b123c77f0>,\n",
       "       <rydanalysis.fitting.fitting_2d.fitting2d.Fit2dGaussian object at 0x7f4af8cdff28>,\n",
       "       <rydanalysis.fitting.fitting_2d.fitting2d.Fit2dGaussian object at 0x7f4b123c70b8>,\n",
       "       <rydanalysis.fitting.fitting_2d.fitting2d.Fit2dGaussian object at 0x7f4b123c98d0>,\n",
       "       <rydanalysis.fitting.fitting_2d.fitting2d.Fit2dGaussian object at 0x7f4b123f36a0>,\n",
       "       <rydanalysis.fitting.fitting_2d.fitting2d.Fit2dGaussian object at 0x7f4b123f3e80>,\n",
       "       <rydanalysis.fitting.fitting_2d.fitting2d.Fit2dGaussian object at 0x7f4b123c9f98>,\n",
       "       <rydanalysis.fitting.fitting_2d.fitting2d.Fit2dGaussian object at 0x7f4b123f3358>,\n",
       "       <rydanalysis.fitting.fitting_2d.fitting2d.Fit2dGaussian object at 0x7f4b123c99b0>,\n",
       "       <rydanalysis.fitting.fitting_2d.fitting2d.Fit2dGaussian object at 0x7f4b123de160>,\n",
       "       <rydanalysis.fitting.fitting_2d.fitting2d.Fit2dGaussian object at 0x7f4b123de780>,\n",
       "       <rydanalysis.fitting.fitting_2d.fitting2d.Fit2dGaussian object at 0x7f4b123f3208>,\n",
       "       <rydanalysis.fitting.fitting_2d.fitting2d.Fit2dGaussian object at 0x7f4b12381c88>,\n",
       "       <rydanalysis.fitting.fitting_2d.fitting2d.Fit2dGaussian object at 0x7f4b1238a048>,\n",
       "       <rydanalysis.fitting.fitting_2d.fitting2d.Fit2dGaussian object at 0x7f4b12381fd0>,\n",
       "       <rydanalysis.fitting.fitting_2d.fitting2d.Fit2dGaussian object at 0x7f4b123f3dd8>,\n",
       "       <rydanalysis.fitting.fitting_2d.fitting2d.Fit2dGaussian object at 0x7f4b123a30b8>,\n",
       "       <rydanalysis.fitting.fitting_2d.fitting2d.Fit2dGaussian object at 0x7f4b1238ab38>,\n",
       "       <rydanalysis.fitting.fitting_2d.fitting2d.Fit2dGaussian object at 0x7f4b123a3b38>,\n",
       "       <rydanalysis.fitting.fitting_2d.fitting2d.Fit2dGaussian object at 0x7f4b12390ac8>,\n",
       "       <rydanalysis.fitting.fitting_2d.fitting2d.Fit2dGaussian object at 0x7f4b123a3d30>],\n",
       "      dtype=object)\n",
       "Coordinates:\n",
       "  * dDDSred  (dDDSred) float64 -4.0 -3.84 -3.68 -3.52 ... 3.52 3.68 3.84 4.0"
      ]
     },
     "execution_count": 10,
     "metadata": {},
     "output_type": "execute_result"
    }
   ],
   "source": [
    "od_av.groupby('dDDSred').apply(fit2dGaussian)"
   ]
  },
  {
   "cell_type": "code",
   "execution_count": null,
   "metadata": {},
   "outputs": [],
   "source": []
  }
 ],
 "metadata": {
  "kernelspec": {
   "display_name": "Python 3",
   "language": "python",
   "name": "python3"
  },
  "language_info": {
   "codemirror_mode": {
    "name": "ipython",
    "version": 3
   },
   "file_extension": ".py",
   "mimetype": "text/x-python",
   "name": "python",
   "nbconvert_exporter": "python",
   "pygments_lexer": "ipython3",
   "version": "3.7.3"
  }
 },
 "nbformat": 4,
 "nbformat_minor": 2
}
