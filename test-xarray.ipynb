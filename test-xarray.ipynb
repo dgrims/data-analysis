{
 "cells": [
  {
   "cell_type": "code",
   "execution_count": 1,
   "metadata": {},
   "outputs": [],
   "source": [
    "import sys\n",
    "import numpy as np\n",
    "sys.path.insert(0, '/home/david/Institut/rydanalysis/')\n",
    "from rydanalysis import *\n",
    "import matplotlib.pyplot as plt\n",
    "import seaborn as sns\n",
    "import matplotlib as mpl\n",
    "from scipy import interpolate\n",
    "mpl.rc('image', cmap='viridis')\n",
    "sns.set_style(\"whitegrid\")\n",
    "from lmfit import Model,Parameters\n",
    "from scipy import ndimage\n",
    "import xarray as xr\n",
    "from tqdm import tqdm"
   ]
  },
  {
   "cell_type": "code",
   "execution_count": 2,
   "metadata": {},
   "outputs": [],
   "source": [
    "def fit22dGaussian(image):\n",
    "    model_twoG = Model(two_Gaussian)\n",
    "\n",
    "    params = Parameters()\n",
    "\n",
    "    params = model_twoG.make_params()\n",
    "\n",
    "\n",
    "\n",
    "    # cloud distribution\n",
    "    params.add('amp1',value=0.1)\n",
    "    params.add('cen_y1',value=128*binning_scale,min=100*binning_scale,max=200*binning_scale)\n",
    "    params.add('cen_x1',value=43*binning_scale,min=20*binning_scale,max=60*binning_scale)\n",
    "    params.add('sig_x1',value=27*binning_scale,min=10*binning_scale,max=100*binning_scale)\n",
    "    params.add('sig_y1',value=66*binning_scale,min=10*binning_scale,max=100*binning_scale)\n",
    "    params.add('theta1',value=0,min=-np.pi/10,max=np.pi/10)\n",
    "\n",
    "    # EIT/Autler-Townes-dip\n",
    "    params.add('amp2',value=0.00,vary=True)\n",
    "    params.add('cen_y2',value=150*binning_scale,min=140*binning_scale,max=160*binning_scale,vary=True)\n",
    "    params.add('cen_x2',value=39*binning_scale,min=36*binning_scale,max=48*binning_scale,vary=True)\n",
    "    params.add('sig_x2',value=5*binning_scale,min=3*binning_scale,max=8*binning_scale,vary=False)\n",
    "    #params.add('sigma_y2',value=10,min=3,max=15)\n",
    "    params.add('sig_y2',expr='sig_x2',vary=False)\n",
    "    params.add('theta2',value=0.0000001,min=0,max=np.pi,vary=False)\n",
    "\n",
    "    # offset\n",
    "    params.add('offset',value=0.000001,vary=False)\n",
    "    model = model_twoG\n",
    "    \n",
    "    shape = image.shape\n",
    "    x,y = np.mgrid[0:shape[0],0:shape[1]]\n",
    "    \n",
    "    image_flat=image.flatten() \n",
    "    #weights_flat=image_weights.flatten()\n",
    "    out = model.fit(image_flat,params,xy_mesh=(x,y))\n",
    "    return out"
   ]
  },
  {
   "cell_type": "code",
   "execution_count": 3,
   "metadata": {},
   "outputs": [],
   "source": [
    "#od = ndimage.gaussian_filter(od, 4, order=0, output=None, mode='constant', cval=0.0, truncate=4.0)\n",
    "\n",
    "def fit2dGaussian(image):\n",
    "    #image = ndimage.gaussian_filter(image, 8, order=0, output=None, mode='constant', cval=0.0, truncate=4.0)\n",
    "    fit = Fit2dGaussian(image)\n",
    "    params = Parameters()#fit.params\n",
    "    params.add('amp',value=0.1)\n",
    "    \n",
    "    params.add('cen_x',value=50,min=45,max=55)\n",
    "    params.add('cen_y',value=165,min=155,max=175)\n",
    "    \n",
    "    params.add('sig_x',value=51,min=30,max=100)\n",
    "    params.add('sig_y',value=160,min=140,max=180)\n",
    "    \n",
    "    params.add('theta',vary=False,value=0,min=0,max=np.pi)\n",
    "    #fit.params = fit.guess(image)\n",
    "    #fit.params = restrict_to_init(fit.params,dev=0.2)\n",
    "    #fit.params['amp'].max = fit.params['amp'].value*(1+0.5)\n",
    "    #fit.params['amp'].min = fit.params['amp'].value*(1-0.5)\n",
    "    #fit.params['cen_x'].max = fit.params['amp'].value*(1+0.1)\n",
    "    #fit.params['cen_x'].min = fit.params['amp'].value*(1-0.1)\n",
    "    #fit.params['cen_y'].max = fit.params['amp'].value*(1+0.1)\n",
    "    #fit.params['cen_y'].min = fit.params['amp'].value*(1-0.1)\n",
    "    #fit.params['offset'].max = fit.params['amp'].value*(1+2)\n",
    "    params.add('offset')\n",
    "    fit.params=params\n",
    "    fit.params['offset'].vary = False\n",
    "    fit.params['offset'].value = 0\n",
    "    \n",
    "    fit.fit_data()\n",
    "    return xr.DataArray(fit)"
   ]
  },
  {
   "cell_type": "code",
   "execution_count": 4,
   "metadata": {},
   "outputs": [
    {
     "name": "stderr",
     "output_type": "stream",
     "text": [
      "0it [00:00, ?it/s]/home/david/Institut/rydanalysis/rydanalysis/single_shot/image_processing.py:20: RuntimeWarning: divide by zero encountered in true_divide\n",
      "  trans = atoms/light\n",
      "/home/david/Institut/rydanalysis/rydanalysis/single_shot/image_processing.py:20: RuntimeWarning: invalid value encountered in true_divide\n",
      "  trans = atoms/light\n",
      "/home/david/Institut/rydanalysis/rydanalysis/single_shot/image_processing.py:9: RuntimeWarning: divide by zero encountered in log\n",
      "  return -np.log(1-image)\n",
      "/home/david/Institut/rydanalysis/rydanalysis/single_shot/image_processing.py:9: RuntimeWarning: invalid value encountered in log\n",
      "  return -np.log(1-image)\n",
      "1020it [00:08, 119.50it/s]\n"
     ]
    }
   ],
   "source": [
    "seq = ExpSequence(\"/home/david/Institut/2019_IEI_new/July/19/Linescan_lowOMEGA_lowDENSITY\")\n",
    "variables= seq.variables.copy()\n",
    "for i,shot in tqdm(enumerate(seq.iter_single_shots())):\n",
    "    image=shot.image\n",
    "    absorb = calc_absorbtion_image(image)\n",
    "    absorb = crop_image(absorb,xslice=slice(10,90),yslice=slice(10,380))\n",
    "    od = absorbtion_to_OD(absorb)\n",
    "    od =  nn_replace_nonfinite(od,~np.isfinite(od))\n",
    "    shot.optical_density = od\n",
    "data = seq.variables.copy()"
   ]
  },
  {
   "cell_type": "code",
   "execution_count": 5,
   "metadata": {},
   "outputs": [],
   "source": [
    "image_list = np.asarray([shot.image for shot in seq.iter_single_shots()])\n",
    "\n",
    "\n",
    "dod =  xr.DataArray(np.asarray([shot.optical_density[0] for shot in seq.iter_single_shots()])\n",
    "                    ,dims=('tmstp','pixrow','pixel'),coords={'tmstp':seq.variables.index})\n",
    "\n",
    "di = xr.DataArray(image_list,dims=('tmstp','image','pixrow','pixel'),coords={'tmstp':seq.variables.index,\n",
    "                                                            'image':['0','absorbed','2','ref','4','bg']})\n",
    "\n",
    "dv = xr.DataArray(seq.variables,dims=('tmstp','quantity'))\n",
    "ds = xr.Dataset(seq.variables)\n",
    "ds['od']=dod"
   ]
  },
  {
   "cell_type": "code",
   "execution_count": 13,
   "metadata": {},
   "outputs": [
    {
     "name": "stdout",
     "output_type": "stream",
     "text": [
      "CPU times: user 98.4 ms, sys: 309 ms, total: 407 ms\n",
      "Wall time: 789 ms\n"
     ]
    }
   ],
   "source": [
    "%%time\n",
    "ds.to_netcdf('ds.nc')"
   ]
  },
  {
   "cell_type": "code",
   "execution_count": 14,
   "metadata": {},
   "outputs": [
    {
     "name": "stdout",
     "output_type": "stream",
     "text": [
      "CPU times: user 6.56 ms, sys: 0 ns, total: 6.56 ms\n",
      "Wall time: 5.83 ms\n"
     ]
    }
   ],
   "source": [
    "%%time \n",
    "ds = xr.open_dataset('ds.nc')"
   ]
  },
  {
   "cell_type": "code",
   "execution_count": 6,
   "metadata": {},
   "outputs": [],
   "source": [
    "var = 'dDDSred'\n",
    "\n",
    "od_av = ds.groupby(var).mean(dim='tmstp')['od']"
   ]
  },
  {
   "cell_type": "code",
   "execution_count": 7,
   "metadata": {},
   "outputs": [
    {
     "data": {
      "text/plain": [
       "<xarray.DataArray 'od' (dDDSred: 51, pixrow: 80, pixel: 370)>\n",
       "array([[[ 0.010651, -0.064654, ...,  0.157974, -0.081644],\n",
       "        [-0.06554 , -0.030739, ..., -0.086199,  0.012077],\n",
       "        ...,\n",
       "        [ 0.030367, -0.001374, ...,  0.026784,  0.067027],\n",
       "        [ 0.063432, -0.105221, ...,  0.02793 , -0.173817]],\n",
       "\n",
       "       [[-0.130937, -0.135193, ..., -0.006613,  0.010676],\n",
       "        [-0.035362, -0.099706, ..., -0.137234, -0.000546],\n",
       "        ...,\n",
       "        [ 0.081939, -0.012172, ..., -0.164604,  0.053356],\n",
       "        [-0.079627, -0.137671, ..., -0.035067,  0.193436]],\n",
       "\n",
       "       ...,\n",
       "\n",
       "       [[-0.051711,  0.055053, ..., -0.135748, -0.019608],\n",
       "        [ 0.042468, -0.01331 , ..., -0.110337,  0.062232],\n",
       "        ...,\n",
       "        [-0.022116, -0.02303 , ..., -0.025569, -0.191631],\n",
       "        [ 0.174222,  0.049282, ...,  0.081114,  0.021354]],\n",
       "\n",
       "       [[ 0.142306, -0.06183 , ...,  0.056041,  0.058945],\n",
       "        [-0.017494, -0.047544, ..., -0.018274, -0.091951],\n",
       "        ...,\n",
       "        [-0.042971,  0.068727, ...,  0.025429, -0.023508],\n",
       "        [-0.064386, -0.063156, ...,  0.131076,  0.002576]]])\n",
       "Coordinates:\n",
       "  * dDDSred  (dDDSred) float64 -4.0 -3.84 -3.68 -3.52 ... 3.52 3.68 3.84 4.0\n",
       "Dimensions without coordinates: pixrow, pixel"
      ]
     },
     "execution_count": 7,
     "metadata": {},
     "output_type": "execute_result"
    }
   ],
   "source": [
    "od_av"
   ]
  },
  {
   "cell_type": "code",
   "execution_count": 8,
   "metadata": {},
   "outputs": [
    {
     "data": {
      "text/plain": [
       "<xarray.DataArray (dDDSred: 51)>\n",
       "array([<rydanalysis.fitting.fitting_2d.fitting2d.Fit2dGaussian object at 0x7f9784610630>,\n",
       "       <rydanalysis.fitting.fitting_2d.fitting2d.Fit2dGaussian object at 0x7f974c07eda0>,\n",
       "       <rydanalysis.fitting.fitting_2d.fitting2d.Fit2dGaussian object at 0x7f974c068668>,\n",
       "       <rydanalysis.fitting.fitting_2d.fitting2d.Fit2dGaussian object at 0x7f974c909cc0>,\n",
       "       <rydanalysis.fitting.fitting_2d.fitting2d.Fit2dGaussian object at 0x7f974c90d550>,\n",
       "       <rydanalysis.fitting.fitting_2d.fitting2d.Fit2dGaussian object at 0x7f974c062518>,\n",
       "       <rydanalysis.fitting.fitting_2d.fitting2d.Fit2dGaussian object at 0x7f974c07e208>,\n",
       "       <rydanalysis.fitting.fitting_2d.fitting2d.Fit2dGaussian object at 0x7f974c957cf8>,\n",
       "       <rydanalysis.fitting.fitting_2d.fitting2d.Fit2dGaussian object at 0x7f974c09a978>,\n",
       "       <rydanalysis.fitting.fitting_2d.fitting2d.Fit2dGaussian object at 0x7f974c06a6a0>,\n",
       "       <rydanalysis.fitting.fitting_2d.fitting2d.Fit2dGaussian object at 0x7f974c062a90>,\n",
       "       <rydanalysis.fitting.fitting_2d.fitting2d.Fit2dGaussian object at 0x7f974c910cf8>,\n",
       "       <rydanalysis.fitting.fitting_2d.fitting2d.Fit2dGaussian object at 0x7f974c9bde80>,\n",
       "       <rydanalysis.fitting.fitting_2d.fitting2d.Fit2dGaussian object at 0x7f974c02c7b8>,\n",
       "       <rydanalysis.fitting.fitting_2d.fitting2d.Fit2dGaussian object at 0x7f974c06aac8>,\n",
       "       <rydanalysis.fitting.fitting_2d.fitting2d.Fit2dGaussian object at 0x7f974c07ef98>,\n",
       "       <rydanalysis.fitting.fitting_2d.fitting2d.Fit2dGaussian object at 0x7f974c02cc50>,\n",
       "       <rydanalysis.fitting.fitting_2d.fitting2d.Fit2dGaussian object at 0x7f974c0474a8>,\n",
       "       <rydanalysis.fitting.fitting_2d.fitting2d.Fit2dGaussian object at 0x7f974c0476d8>,\n",
       "       <rydanalysis.fitting.fitting_2d.fitting2d.Fit2dGaussian object at 0x7f974c07e438>,\n",
       "       <rydanalysis.fitting.fitting_2d.fitting2d.Fit2dGaussian object at 0x7f974c047518>,\n",
       "       <rydanalysis.fitting.fitting_2d.fitting2d.Fit2dGaussian object at 0x7f974c047dd8>,\n",
       "       <rydanalysis.fitting.fitting_2d.fitting2d.Fit2dGaussian object at 0x7f974c02ce48>,\n",
       "       <rydanalysis.fitting.fitting_2d.fitting2d.Fit2dGaussian object at 0x7f974c02cf98>,\n",
       "       <rydanalysis.fitting.fitting_2d.fitting2d.Fit2dGaussian object at 0x7f974c057ac8>,\n",
       "       <rydanalysis.fitting.fitting_2d.fitting2d.Fit2dGaussian object at 0x7f9747fc9898>,\n",
       "       <rydanalysis.fitting.fitting_2d.fitting2d.Fit2dGaussian object at 0x7f974c02ce80>,\n",
       "       <rydanalysis.fitting.fitting_2d.fitting2d.Fit2dGaussian object at 0x7f9747fc9d30>,\n",
       "       <rydanalysis.fitting.fitting_2d.fitting2d.Fit2dGaussian object at 0x7f974c047c50>,\n",
       "       <rydanalysis.fitting.fitting_2d.fitting2d.Fit2dGaussian object at 0x7f9747fc9320>,\n",
       "       <rydanalysis.fitting.fitting_2d.fitting2d.Fit2dGaussian object at 0x7f974c057908>,\n",
       "       <rydanalysis.fitting.fitting_2d.fitting2d.Fit2dGaussian object at 0x7f9747fda160>,\n",
       "       <rydanalysis.fitting.fitting_2d.fitting2d.Fit2dGaussian object at 0x7f9747fddf28>,\n",
       "       <rydanalysis.fitting.fitting_2d.fitting2d.Fit2dGaussian object at 0x7f9747fdaa58>,\n",
       "       <rydanalysis.fitting.fitting_2d.fitting2d.Fit2dGaussian object at 0x7f9747fddc50>,\n",
       "       <rydanalysis.fitting.fitting_2d.fitting2d.Fit2dGaussian object at 0x7f9747fc9780>,\n",
       "       <rydanalysis.fitting.fitting_2d.fitting2d.Fit2dGaussian object at 0x7f9747fdae80>,\n",
       "       <rydanalysis.fitting.fitting_2d.fitting2d.Fit2dGaussian object at 0x7f9747ffad68>,\n",
       "       <rydanalysis.fitting.fitting_2d.fitting2d.Fit2dGaussian object at 0x7f97117fb9e8>,\n",
       "       <rydanalysis.fitting.fitting_2d.fitting2d.Fit2dGaussian object at 0x7f97117fb2b0>,\n",
       "       <rydanalysis.fitting.fitting_2d.fitting2d.Fit2dGaussian object at 0x7f97117fb7b8>,\n",
       "       <rydanalysis.fitting.fitting_2d.fitting2d.Fit2dGaussian object at 0x7f97117fb160>,\n",
       "       <rydanalysis.fitting.fitting_2d.fitting2d.Fit2dGaussian object at 0x7f97117fb748>,\n",
       "       <rydanalysis.fitting.fitting_2d.fitting2d.Fit2dGaussian object at 0x7f971180d710>,\n",
       "       <rydanalysis.fitting.fitting_2d.fitting2d.Fit2dGaussian object at 0x7f97117fb8d0>,\n",
       "       <rydanalysis.fitting.fitting_2d.fitting2d.Fit2dGaussian object at 0x7f97117fbd30>,\n",
       "       <rydanalysis.fitting.fitting_2d.fitting2d.Fit2dGaussian object at 0x7f971180d908>,\n",
       "       <rydanalysis.fitting.fitting_2d.fitting2d.Fit2dGaussian object at 0x7f97117fbba8>,\n",
       "       <rydanalysis.fitting.fitting_2d.fitting2d.Fit2dGaussian object at 0x7f9711820dd8>,\n",
       "       <rydanalysis.fitting.fitting_2d.fitting2d.Fit2dGaussian object at 0x7f971182ac88>,\n",
       "       <rydanalysis.fitting.fitting_2d.fitting2d.Fit2dGaussian object at 0x7f971182ad68>],\n",
       "      dtype=object)\n",
       "Coordinates:\n",
       "  * dDDSred  (dDDSred) float64 -4.0 -3.84 -3.68 -3.52 ... 3.52 3.68 3.84 4.0"
      ]
     },
     "execution_count": 8,
     "metadata": {},
     "output_type": "execute_result"
    }
   ],
   "source": [
    "od_av.groupby('dDDSred').apply(fit2dGaussian)"
   ]
  },
  {
   "cell_type": "code",
   "execution_count": null,
   "metadata": {},
   "outputs": [],
   "source": []
  }
 ],
 "metadata": {
  "kernelspec": {
   "display_name": "Python 3",
   "language": "python",
   "name": "python3"
  },
  "language_info": {
   "codemirror_mode": {
    "name": "ipython",
    "version": 3
   },
   "file_extension": ".py",
   "mimetype": "text/x-python",
   "name": "python",
   "nbconvert_exporter": "python",
   "pygments_lexer": "ipython3",
   "version": "3.7.3"
  }
 },
 "nbformat": 4,
 "nbformat_minor": 2
}
