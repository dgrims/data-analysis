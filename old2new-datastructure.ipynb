{
 "cells": [
  {
   "cell_type": "code",
   "execution_count": 21,
   "metadata": {},
   "outputs": [],
   "source": [
    "import sys\n",
    "import os\n",
    "# path of the rydanalysis library\n",
    "sys.path.insert(0, '/home/david/Institut/rydanalysis/')\n",
    "from rydanalysis import *"
   ]
  },
  {
   "cell_type": "code",
   "execution_count": 22,
   "metadata": {},
   "outputs": [],
   "source": [
    "def walk(top, maxdepth):\n",
    "    dirs, nondirs = [], []\n",
    "    for name in os.listdir(top):\n",
    "        (dirs if os.path.isdir(os.path.join(top, name)) else nondirs).append(name)\n",
    "    yield top, dirs, nondirs\n",
    "    if maxdepth > 1:\n",
    "        for name in dirs:\n",
    "            for x in walk(os.path.join(top, name), maxdepth-1):\n",
    "                yield x"
   ]
  },
  {
   "cell_type": "code",
   "execution_count": 23,
   "metadata": {},
   "outputs": [],
   "source": [
    "old_project = \"/home/david/Institut/2019_IEI\"\n",
    "new_project = \"/home/david/Institut/2019_IEI_new/\""
   ]
  },
  {
   "cell_type": "code",
   "execution_count": 25,
   "metadata": {},
   "outputs": [
    {
     "data": {
      "application/vnd.jupyter.widget-view+json": {
       "model_id": "70e98fa24d8943358cb882c0060ee1ab",
       "version_major": 2,
       "version_minor": 0
      },
      "text/plain": [
       "HBox(children=(IntProgress(value=0, max=1943), HTML(value='')))"
      ]
     },
     "metadata": {},
     "output_type": "display_data"
    },
    {
     "name": "stdout",
     "output_type": "stream",
     "text": [
      "\n",
      "/home/david/Institut/2019_IEI_new/July/25/DensityScanOvernight\n"
     ]
    },
    {
     "data": {
      "application/vnd.jupyter.widget-view+json": {
       "model_id": "09bd6941172a49fa96a4b0be040a837b",
       "version_major": 2,
       "version_minor": 0
      },
      "text/plain": [
       "HBox(children=(IntProgress(value=0, max=780), HTML(value='')))"
      ]
     },
     "metadata": {},
     "output_type": "display_data"
    },
    {
     "name": "stdout",
     "output_type": "stream",
     "text": [
      "\n",
      "/home/david/Institut/2019_IEI_new/June/25/scan2phot_015MW_final\n"
     ]
    },
    {
     "data": {
      "application/vnd.jupyter.widget-view+json": {
       "model_id": "033f8d5f27204d53b86e4cb7e9499809",
       "version_major": 2,
       "version_minor": 0
      },
      "text/plain": [
       "HBox(children=(IntProgress(value=0, max=447), HTML(value='')))"
      ]
     },
     "metadata": {},
     "output_type": "display_data"
    },
    {
     "name": "stdout",
     "output_type": "stream",
     "text": [
      "\n",
      "/home/david/Institut/2019_IEI_new/June/25/MW06pAbsx19\n",
      "/home/david/Institut/2019_IEI_new/June/25/MW06pAbsx15\n"
     ]
    },
    {
     "data": {
      "application/vnd.jupyter.widget-view+json": {
       "model_id": "7121cba4406a49f09355cec0785dfa24",
       "version_major": 2,
       "version_minor": 0
      },
      "text/plain": [
       "HBox(children=(IntProgress(value=0, max=780), HTML(value='')))"
      ]
     },
     "metadata": {},
     "output_type": "display_data"
    },
    {
     "name": "stdout",
     "output_type": "stream",
     "text": [
      "\n",
      "/home/david/Institut/2019_IEI_new/June/25/scan2phot_025MW_final\n"
     ]
    },
    {
     "data": {
      "application/vnd.jupyter.widget-view+json": {
       "model_id": "882d648d8cf4487e819abc63150db9a8",
       "version_major": 2,
       "version_minor": 0
      },
      "text/plain": [
       "HBox(children=(IntProgress(value=0, max=130), HTML(value='')))"
      ]
     },
     "metadata": {},
     "output_type": "display_data"
    },
    {
     "name": "stdout",
     "output_type": "stream",
     "text": [
      "\n",
      "/home/david/Institut/2019_IEI_new/June/25/scan2phot_060MW\n"
     ]
    },
    {
     "data": {
      "application/vnd.jupyter.widget-view+json": {
       "model_id": "383bc4b8fd9c42b891f6b050e925f390",
       "version_major": 2,
       "version_minor": 0
      },
      "text/plain": [
       "HBox(children=(IntProgress(value=0, max=780), HTML(value='')))"
      ]
     },
     "metadata": {},
     "output_type": "display_data"
    },
    {
     "name": "stdout",
     "output_type": "stream",
     "text": [
      "\n",
      "/home/david/Institut/2019_IEI_new/June/25/scan2phot_045MW_final\n"
     ]
    },
    {
     "data": {
      "application/vnd.jupyter.widget-view+json": {
       "model_id": "9e43108fc17f4a2faab7b2f7dc14ef32",
       "version_major": 2,
       "version_minor": 0
      },
      "text/plain": [
       "HBox(children=(IntProgress(value=0, max=130), HTML(value='')))"
      ]
     },
     "metadata": {},
     "output_type": "display_data"
    },
    {
     "name": "stdout",
     "output_type": "stream",
     "text": [
      "\n",
      "/home/david/Institut/2019_IEI_new/June/25/scan2phot_080MW\n"
     ]
    },
    {
     "data": {
      "application/vnd.jupyter.widget-view+json": {
       "model_id": "191f36ad0b2047beaa31c71afc45ae22",
       "version_major": 2,
       "version_minor": 0
      },
      "text/plain": [
       "HBox(children=(IntProgress(value=0, max=780), HTML(value='')))"
      ]
     },
     "metadata": {},
     "output_type": "display_data"
    },
    {
     "name": "stdout",
     "output_type": "stream",
     "text": [
      "\n",
      "/home/david/Institut/2019_IEI_new/June/25/scan2phot_035MW_final\n"
     ]
    }
   ],
   "source": [
    "for month in Directory(old_project).iter_dirs():\n",
    "    for day in Directory(month).iter_dirs(): \n",
    "        if os.path.basename(day)==\"25\":\n",
    "            for scan in Directory(day).iter_dirs():\n",
    "                if True:#os.path.basename(scan)==\"DENSITYSCANFULL\":\n",
    "                    if not \"_averaged_images\" in scan:\n",
    "                        old_scan = OldStructure(scan)\n",
    "                        rel_path = os.path.relpath(scan,old_project)\n",
    "                        path = os.path.join(new_project,rel_path)\n",
    "                        try: old_scan.create_new(path)\n",
    "                        except: pass\n",
    "                        print(path)"
   ]
  }
 ],
 "metadata": {
  "kernelspec": {
   "display_name": "Python 3",
   "language": "python",
   "name": "python3"
  },
  "language_info": {
   "codemirror_mode": {
    "name": "ipython",
    "version": 3
   },
   "file_extension": ".py",
   "mimetype": "text/x-python",
   "name": "python",
   "nbconvert_exporter": "python",
   "pygments_lexer": "ipython3",
   "version": "3.7.3"
  }
 },
 "nbformat": 4,
 "nbformat_minor": 2
}
