{
 "cells": [
  {
   "cell_type": "code",
   "execution_count": 1,
   "metadata": {},
   "outputs": [],
   "source": [
    "import sys\n",
    "import os\n",
    "# path of the rydanalysis library\n",
    "sys.path.insert(0, '/home/david/Institut/rydanalysis/')\n",
    "from rydanalysis import *"
   ]
  },
  {
   "cell_type": "code",
   "execution_count": 2,
   "metadata": {},
   "outputs": [],
   "source": [
    "def walk(top, maxdepth):\n",
    "    dirs, nondirs = [], []\n",
    "    for name in os.listdir(top):\n",
    "        (dirs if os.path.isdir(os.path.join(top, name)) else nondirs).append(name)\n",
    "    yield top, dirs, nondirs\n",
    "    if maxdepth > 1:\n",
    "        for name in dirs:\n",
    "            for x in walk(os.path.join(top, name), maxdepth-1):\n",
    "                yield x"
   ]
  },
  {
   "cell_type": "code",
   "execution_count": 3,
   "metadata": {},
   "outputs": [],
   "source": [
    "old_project = \"/home/david/Institut/2019_IEI\"\n",
    "new_project = \"/home/david/Institut/2019_IEI_new/\""
   ]
  },
  {
   "cell_type": "code",
   "execution_count": 4,
   "metadata": {},
   "outputs": [
    {
     "data": {
      "application/vnd.jupyter.widget-view+json": {
       "model_id": "3f33af7cc8204f7eba0c55eeb4957844",
       "version_major": 2,
       "version_minor": 0
      },
      "text/plain": [
       "HBox(children=(IntProgress(value=0, max=820), HTML(value='')))"
      ]
     },
     "metadata": {},
     "output_type": "display_data"
    },
    {
     "name": "stdout",
     "output_type": "stream",
     "text": [
      "\n",
      "/home/david/Institut/2019_IEI_new/July/24/DoubleLZPassage_Final\n"
     ]
    },
    {
     "data": {
      "application/vnd.jupyter.widget-view+json": {
       "model_id": "6eeffa316f7c46a6b827ec68023020fd",
       "version_major": 2,
       "version_minor": 0
      },
      "text/plain": [
       "HBox(children=(IntProgress(value=0, max=463), HTML(value='')))"
      ]
     },
     "metadata": {},
     "output_type": "display_data"
    },
    {
     "name": "stdout",
     "output_type": "stream",
     "text": [
      "\n",
      "/home/david/Institut/2019_IEI_new/June/24/Stability_fluctuation_scan\n"
     ]
    },
    {
     "data": {
      "application/vnd.jupyter.widget-view+json": {
       "model_id": "f8511eecbe9f49e79fb8946e54fc2a54",
       "version_major": 2,
       "version_minor": 0
      },
      "text/plain": [
       "HBox(children=(IntProgress(value=0, max=809), HTML(value='')))"
      ]
     },
     "metadata": {},
     "output_type": "display_data"
    },
    {
     "name": "stdout",
     "output_type": "stream",
     "text": [
      "\n",
      "/home/david/Institut/2019_IEI_new/June/24/SPDscan_TOF06_tex045\n"
     ]
    },
    {
     "data": {
      "application/vnd.jupyter.widget-view+json": {
       "model_id": "4fd2c8589da243ef9464a3d0265b6476",
       "version_major": 2,
       "version_minor": 0
      },
      "text/plain": [
       "HBox(children=(IntProgress(value=0, max=255), HTML(value='')))"
      ]
     },
     "metadata": {},
     "output_type": "display_data"
    },
    {
     "name": "stdout",
     "output_type": "stream",
     "text": [
      "\n",
      "/home/david/Institut/2019_IEI_new/June/24/SPDscan_TOF06_tex045_good_MW015\n"
     ]
    },
    {
     "data": {
      "application/vnd.jupyter.widget-view+json": {
       "model_id": "3b23b9ba544a4b23a7aebe6d869031f0",
       "version_major": 2,
       "version_minor": 0
      },
      "text/plain": [
       "HBox(children=(IntProgress(value=0, max=160), HTML(value='')))"
      ]
     },
     "metadata": {},
     "output_type": "display_data"
    },
    {
     "name": "stdout",
     "output_type": "stream",
     "text": [
      "\n",
      "/home/david/Institut/2019_IEI_new/June/24/Deltac-Scan\n",
      "/home/david/Institut/2019_IEI_new/June/24/scan2phot_045MW_final\n"
     ]
    },
    {
     "data": {
      "application/vnd.jupyter.widget-view+json": {
       "model_id": "a6760e3a7391414a8a6f047d57219bee",
       "version_major": 2,
       "version_minor": 0
      },
      "text/plain": [
       "HBox(children=(IntProgress(value=0, max=255), HTML(value='')))"
      ]
     },
     "metadata": {},
     "output_type": "display_data"
    },
    {
     "name": "stdout",
     "output_type": "stream",
     "text": [
      "\n",
      "/home/david/Institut/2019_IEI_new/June/24/SPDscan_TOF06_tex045_good_MW025\n"
     ]
    },
    {
     "data": {
      "application/vnd.jupyter.widget-view+json": {
       "model_id": "a653633206f543c797acce71ed156bb0",
       "version_major": 2,
       "version_minor": 0
      },
      "text/plain": [
       "HBox(children=(IntProgress(value=0, max=255), HTML(value='')))"
      ]
     },
     "metadata": {},
     "output_type": "display_data"
    },
    {
     "name": "stdout",
     "output_type": "stream",
     "text": [
      "\n",
      "/home/david/Institut/2019_IEI_new/June/24/SPDscan_TOF06_tex045_good_MW035\n"
     ]
    }
   ],
   "source": [
    "for month in Directory(old_project).iter_dirs():\n",
    "    for day in Directory(month).iter_dirs(): \n",
    "        if os.path.basename(day)==\"24\":\n",
    "            for scan in Directory(day).iter_dirs():\n",
    "                if True:#os.path.basename(scan)==\"DENSITYSCANFULL\":\n",
    "                    if not \"_averaged_images\" in scan:\n",
    "                        old_scan = OldStructure(scan)\n",
    "                        rel_path = os.path.relpath(scan,old_project)\n",
    "                        path = os.path.join(new_project,rel_path)\n",
    "                        try: old_scan.create_new(path)\n",
    "                        except: pass\n",
    "                        print(path)"
   ]
  }
 ],
 "metadata": {
  "kernelspec": {
   "display_name": "Python 3",
   "language": "python",
   "name": "python3"
  },
  "language_info": {
   "codemirror_mode": {
    "name": "ipython",
    "version": 3
   },
   "file_extension": ".py",
   "mimetype": "text/x-python",
   "name": "python",
   "nbconvert_exporter": "python",
   "pygments_lexer": "ipython3",
   "version": "3.7.3"
  }
 },
 "nbformat": 4,
 "nbformat_minor": 2
}
