{
 "cells": [
  {
   "cell_type": "code",
   "execution_count": 1,
   "metadata": {},
   "outputs": [],
   "source": [
    "from prefect import Flow,task, Task,unmapped, Parameter\n",
    "import sys\n",
    "import os\n",
    "from os.path import join, splitext\n",
    "import matplotlib.pyplot as plt\n",
    "from pandas import to_datetime\n",
    "import xarray as xr\n",
    "from scipy import ndimage, integrate"
   ]
  },
  {
   "cell_type": "code",
   "execution_count": 2,
   "metadata": {},
   "outputs": [],
   "source": [
    "\n",
    "import plotly.graph_objects as go\n"
   ]
  },
  {
   "cell_type": "markdown",
   "metadata": {},
   "source": [
    "import plotly\n",
    "plotly.tools.set_credentials_file(username='dgrimshandl', api_key='••••••••••')"
   ]
  },
  {
   "cell_type": "code",
   "execution_count": 3,
   "metadata": {},
   "outputs": [],
   "source": [
    "# path of the rydanalysis library\n",
    "sys.path.insert(0, '/home/david/Institut/data-analysis/rydanalysis/')\n",
    "from rydanalysis import *"
   ]
  },
  {
   "cell_type": "code",
   "execution_count": 4,
   "metadata": {},
   "outputs": [],
   "source": [
    "old_data_root ='/home/david/Institut/2019_IEI'\n",
    "data_root ='/home/david/Institut/2019_IEI_new'\n",
    "analysis_root='/home/david/Institut/analysis'\n",
    "seq_path = \"October/22/OmegaPScanFinalFinalFinal/\""
   ]
  },
  {
   "cell_type": "code",
   "execution_count": 5,
   "metadata": {},
   "outputs": [],
   "source": [
    "seq = ExpSequence(join(data_root,seq_path))"
   ]
  },
  {
   "cell_type": "code",
   "execution_count": 6,
   "metadata": {},
   "outputs": [
    {
     "name": "stdout",
     "output_type": "stream",
     "text": [
      "CPU times: user 31.7 s, sys: 3.46 s, total: 35.1 s\n",
      "Wall time: 47.4 s\n"
     ]
    }
   ],
   "source": [
    "%%time\n",
    "ds = seq.raw_data.get_images()"
   ]
  },
  {
   "cell_type": "code",
   "execution_count": 7,
   "metadata": {},
   "outputs": [],
   "source": [
    "ref = ds['image_03']\n",
    "atoms = ds['image_01']\n",
    "dark = ds['image_05']\n",
    "\n",
    "xslice=slice(10,90)\n",
    "yslice=slice(10,380)\n",
    "\n",
    "dark = dark[:,xslice,yslice]\n",
    "ref = ref[:,xslice,yslice]"
   ]
  },
  {
   "cell_type": "code",
   "execution_count": 8,
   "metadata": {},
   "outputs": [],
   "source": [
    "std_shot = ref.std(dim=['x','y'])\n",
    "mean_shot = ref.mean(dim=['x','y'])"
   ]
  },
  {
   "cell_type": "code",
   "execution_count": 9,
   "metadata": {},
   "outputs": [],
   "source": [
    "std = ref.groupby('pABSx').std(dim='shot')"
   ]
  },
  {
   "cell_type": "code",
   "execution_count": 10,
   "metadata": {},
   "outputs": [],
   "source": [
    "std_seq = ref.std(dim='shot')\n",
    "mean_seq = ref.mean(dim='shot')"
   ]
  },
  {
   "cell_type": "code",
   "execution_count": 11,
   "metadata": {},
   "outputs": [],
   "source": [
    "std_p = ref.groupby('pABSx').std('shot')\n",
    "mean_p = ref.groupby('pABSx').mean('shot')"
   ]
  },
  {
   "cell_type": "code",
   "execution_count": 12,
   "metadata": {},
   "outputs": [],
   "source": [
    "intens = ref.mean(('x','y'))\n",
    "intens_mean = intens.groupby('pABSx').mean('shot')\n",
    "intens_std = intens.groupby('pABSx').std('shot')"
   ]
  },
  {
   "cell_type": "code",
   "execution_count": 13,
   "metadata": {},
   "outputs": [],
   "source": [
    "bg = dark.mean()"
   ]
  },
  {
   "cell_type": "code",
   "execution_count": 14,
   "metadata": {},
   "outputs": [],
   "source": [
    "fig = go.FigureWidget()\n",
    "\n",
    "fig.add_scattergl(x=mean_shot,y=std_shot,mode='markers');\n",
    "fig.add_scattergl(x=mean_shot,y=std_shot,mode='markers');\n",
    "fig.add_scattergl(x=mean_shot,y=std_shot,mode='markers');\n"
   ]
  },
  {
   "cell_type": "code",
   "execution_count": 15,
   "metadata": {},
   "outputs": [
    {
     "data": {
      "application/vnd.jupyter.widget-view+json": {
       "model_id": "f1f42c4986ea416da631b6673b564da0",
       "version_major": 2,
       "version_minor": 0
      },
      "text/plain": [
       "FigureWidget({\n",
       "    'data': [{'nbinsx': 400,\n",
       "              'type': 'histogram',\n",
       "              'uid': '9d067ef3-…"
      ]
     },
     "metadata": {},
     "output_type": "display_data"
    }
   ],
   "source": [
    "fhist = go.FigureWidget()\n",
    "fhist.add_histogram(x=intens,nbinsx=400)\n",
    "fhist.update_xaxes(title_text = 'accumulated intensity [counts/pixel]')\n",
    "fhist.update_yaxes(title_text = '# shots')"
   ]
  },
  {
   "cell_type": "code",
   "execution_count": 16,
   "metadata": {},
   "outputs": [
    {
     "data": {
      "application/vnd.jupyter.widget-view+json": {
       "model_id": "e482d47dcf2e430a9fcf585a6b29b921",
       "version_major": 2,
       "version_minor": 0
      },
      "text/plain": [
       "FigureWidget({\n",
       "    'data': [{'mode': 'markers',\n",
       "              'type': 'scattergl',\n",
       "              'uid': 'cdaf3…"
      ]
     },
     "metadata": {},
     "output_type": "display_data"
    }
   ],
   "source": [
    "fig2 = go.FigureWidget()\n",
    "\n",
    "fig2.add_scattergl(x=intens_mean-bg,y=intens_std,mode='markers')\n",
    "fig2.update_xaxes(title_text=\"mean accumulated intensity [counts/pixel]\");\n",
    "fig2.update_yaxes(title_text=\"standard deviation [counts/pixel]\")"
   ]
  },
  {
   "cell_type": "code",
   "execution_count": 17,
   "metadata": {},
   "outputs": [],
   "source": [
    "fig.update_layout(xaxis_type=\"log\", \n",
    "                  yaxis_type=\"log\")\n",
    "fig.update_xaxes(title_text=\"mean intensity [counts]\");\n",
    "fig.update_yaxes(title_text=\"standard deviation [counts]\");"
   ]
  },
  {
   "cell_type": "code",
   "execution_count": 18,
   "metadata": {},
   "outputs": [],
   "source": [
    "fig.data[0].y= std_p[:,52,185]\n",
    "fig.data[0].x= mean_p[:,52,185]-bg\n",
    "fig.data[0].name='single pixel'"
   ]
  },
  {
   "cell_type": "code",
   "execution_count": 19,
   "metadata": {},
   "outputs": [],
   "source": [
    "fig.data[1].x= np.linspace(fig.data[2].x.min(),fig.data[2].x.max(),10)\n",
    "fig.data[1].y= np.sqrt(np.linspace(max(fig.data[2].x.min(),0),fig.data[2].x.max(),10))\n",
    "fig.data[1].mode='lines'\n",
    "fig.data[1].name='$\\sqrt{}$'"
   ]
  },
  {
   "cell_type": "code",
   "execution_count": 20,
   "metadata": {},
   "outputs": [
    {
     "data": {
      "application/vnd.jupyter.widget-view+json": {
       "model_id": "8b5a5976a8a543f2892aebfaadcaff2a",
       "version_major": 2,
       "version_minor": 0
      },
      "text/plain": [
       "FigureWidget({\n",
       "    'data': [{'mode': 'markers',\n",
       "              'name': 'single pixel',\n",
       "              'type': 's…"
      ]
     },
     "metadata": {},
     "output_type": "display_data"
    }
   ],
   "source": [
    "#fig.add_scatter(x=std_p[:,52,185],y=std_p[:,52,185])\n",
    "fig.data[2].x=mean_p.mean(('x','y'))-bg\n",
    "fig.data[2].y=std_p.mean(('x','y'))\n",
    "fig.data[2].error_y=dict(array=std_p.std(('x','y')).values)\n",
    "fig.data[2].mode='lines+markers'\n",
    "fig.data[2].name='average over all pixels'\n",
    "fig"
   ]
  }
 ],
 "metadata": {
  "kernelspec": {
   "display_name": "Python 3",
   "language": "python",
   "name": "python3"
  },
  "language_info": {
   "codemirror_mode": {
    "name": "ipython",
    "version": 3
   },
   "file_extension": ".py",
   "mimetype": "text/x-python",
   "name": "python",
   "nbconvert_exporter": "python",
   "pygments_lexer": "ipython3",
   "version": "3.7.4"
  },
  "widgets": {
   "application/vnd.jupyter.widget-state+json": {
    "state": {
     "8b5a5976a8a543f2892aebfaadcaff2a": {
      "buffers": [
       {
        "data": "oBxUtviwE0CAYBH8WO8fQCBjRRz2DidAyP5jm2lmM0DoHv1Qj7U8QOQFpecAe0VASDVGpYXRTkDoXucWB5VVQBjYJTINoFxAqgkXwd0JY0AkpUVv3qVoQKAXaTEG7W5Ah6SGkg6ickC2Xm81mt52QDBc4LOn2npAYCL2kxlvf0A8SjtB/xOCQKKZLb+rZIRAqripr23DhkBvB5Z0vFGJQD6B3huluYtAoqQ8evXfjUCElr16whGQQCRtbY9qF5FAHTPZ5F3skUBEMDEKO7qSQCCeolZYVZNAlvQ9n0HDk0Dll1OOjySUQPbqvnhFYZRA33mtYVSJlEA=",
        "encoding": "base64",
        "path": [
         "_data",
         0,
         "x",
         "value"
        ]
       },
       {
        "data": "Fmy05JZvE0C4DTDLpjUSQNQjLDIa+hNA8rNSBrDzFUB/UIvAY4MaQEJVTXZ5LxpAasNctDBDG0AxHImZvHohQFaF7d7TJyNAOdTyhTyuJ0CRyJWbuy0rQIgu3+XY0y5ANIWZIyNHMEACX1W9Q8MxQK+P3OhJmjNAurc7vE0QN0AcAuFCBTk4QN2tcE2dnDpAmj6PR+lyOUBNF0VbGd87QO3AfhcRtjtAHqfoUWjJPUCidG3Cu6c9QAcWD8TF+j1APnS5pcFlQEAc+H1jmItBQB8yHJRgfkJA8Orth9aYQUDOZMuXxcNCQHVutY6vuz9AzIiifR6iQUA=",
        "encoding": "base64",
        "path": [
         "_data",
         0,
         "y",
         "value"
        ]
       },
       {
        "data": "7X1NCMrJaUB2NN6OEu14QPvUygygeoJAuo8m0rZ+iEB6SoKXzYKOQJ0Cby5yQ5JA/d8ckX1FlUBdvcrziEeYQL2aeFaUSZtAHXgmuZ9LnkA=",
        "encoding": "base64",
        "path": [
         "_data",
         1,
         "x",
         "value"
        ]
       },
       {
        "data": "zPnAagm6LECs7FpjbPgzQNZN7Z82UThATf9U40P/O0DjECmSIT8/QNCSv5YkGEFAL8U+zMlyQkDuSIisrLVDQPHmCxkb5URAh8TorDkERkA=",
        "encoding": "base64",
        "path": [
         "_data",
         1,
         "y",
         "value"
        ]
       },
       {
        "data": "ID72L3AKFkBABoavOQEhQPDZtLn5yitAuBgDnOm/NkCURcKBwepBQIzxdWaV8UpAkCg+2JORU0CYnUCQ/HRbQIJ0DETthmJAXuOw50xiaEAYuaxpA0xvQJqQbhVioXNAcrms4nYUeEAS8hDMPSJ9QFV4yn33OoFAil8RepwbhEBVZMzMTiGHQJiE/kRIO4pADnJXcipkjUA6I0O8bT2QQLN8r55XxJFAGP4ACgdAk0D8QBxUSZWUQKyaFFrX3pVAtl0Crc3/lkBouRZr9vmXQBS274Tly5hABMXVbzxwmUCP3QO2G+eZQFE1dXEuNJpAiMA+egZlmkA=",
        "encoding": "base64",
        "path": [
         "_data",
         2,
         "x",
         "value"
        ]
       },
       {
        "data": "IHSh+0+8EUAq7W3r1bwSQE4Kq9LtYxRAzGAe7+XUFkBMfi8ArhIaQMjZtAwPAh5ATZaMdMxYIUB+XBuwrvcjQGdQQ1GwySZAh1VHpI3PKUCSYvyIGTstQGuv2w4EbjBAhDRCU40pMkCxu36jggQ0QBLgi0i24jVA8TCPtRy6N0BHv9iJ/J85QBzL2HoQjztAZDxZd6EmPUAzdyzxsPM+QEs9kN6ZIEBAlTNCujw8QUCQk/pBPj1CQD5dEXNTo0JAEVfFlsPHQ0CVg30BqXFEQF9sZ/UzGERAW6NQVb+kREAg3UP7DN9EQB0fsAo8GkVAdXr4Kn+kREA=",
        "encoding": "base64",
        "path": [
         "_data",
         2,
         "y",
         "value"
        ]
       },
       {
        "data": "RJ+lOMCX0z+IOe4v8gbVP0Gtz+ZYEdc/zTsDOvQM2z+GI2rPEObgP0XraO9yOOQ/VxikZ8/Z6D9SXU4fdS3sPwtxIoC+zfA/gCKi4aib8z+I71vSaIb1P04m3b++jPk/xLx3/EAq/D9kjPqw69//P1LCjcY1xwFAy+U16uiNA0Co7Cxv3pMFQBjcCjhTIgZAL3CteydFCEDKaglU1FEKQBm+ESlgIQxAHDzOnpFkDUBZORvkTOAPQE2RnOAXjhBAkE/OTIBuEUCb0IJzcUYSQFayN/fDmBFAc8sxZ6reEkA1vCnUbNQTQHxnmYQd5hJAqYsFA9xGEkA=",
        "encoding": "base64",
        "path": [
         "_data",
         2,
         "error_y",
         "array",
         "value"
        ]
       }
      ],
      "model_module": "plotlywidget",
      "model_module_version": "^1.1.0",
      "model_name": "FigureModel",
      "state": {
       "_config": {
        "plotlyServerURL": "https://plot.ly"
       },
       "_data": [
        {
         "mode": "markers",
         "name": "single pixel",
         "type": "scattergl",
         "uid": "6d03aa9b-44dc-416d-ae83-4c84591d1523",
         "x": {
          "dtype": "float64",
          "shape": [
           31
          ]
         },
         "y": {
          "dtype": "float64",
          "shape": [
           31
          ]
         }
        },
        {
         "mode": "lines",
         "name": "$\\sqrt{}$",
         "type": "scattergl",
         "uid": "27ee663d-1d43-4068-9307-43e700d14e73",
         "x": {
          "dtype": "float64",
          "shape": [
           10
          ]
         },
         "y": {
          "dtype": "float64",
          "shape": [
           10
          ]
         }
        },
        {
         "error_y": {
          "array": {
           "dtype": "float64",
           "shape": [
            31
           ]
          }
         },
         "mode": "lines+markers",
         "name": "average over all pixels",
         "type": "scattergl",
         "uid": "27fabaff-2469-4bf9-b854-cd3280f65145",
         "x": {
          "dtype": "float64",
          "shape": [
           31
          ]
         },
         "y": {
          "dtype": "float64",
          "shape": [
           31
          ]
         }
        }
       ],
       "_js2py_pointsCallback": {},
       "_js2py_relayout": {},
       "_js2py_restyle": {},
       "_js2py_update": {},
       "_last_layout_edit_id": 18,
       "_last_trace_edit_id": 18,
       "_layout": {
        "template": {
         "data": {
          "bar": [
           {
            "error_x": {
             "color": "#2a3f5f"
            },
            "error_y": {
             "color": "#2a3f5f"
            },
            "marker": {
             "line": {
              "color": "#E5ECF6",
              "width": 0.5
             }
            },
            "type": "bar"
           }
          ],
          "barpolar": [
           {
            "marker": {
             "line": {
              "color": "#E5ECF6",
              "width": 0.5
             }
            },
            "type": "barpolar"
           }
          ],
          "carpet": [
           {
            "aaxis": {
             "endlinecolor": "#2a3f5f",
             "gridcolor": "white",
             "linecolor": "white",
             "minorgridcolor": "white",
             "startlinecolor": "#2a3f5f"
            },
            "baxis": {
             "endlinecolor": "#2a3f5f",
             "gridcolor": "white",
             "linecolor": "white",
             "minorgridcolor": "white",
             "startlinecolor": "#2a3f5f"
            },
            "type": "carpet"
           }
          ],
          "choropleth": [
           {
            "colorbar": {
             "outlinewidth": 0,
             "ticks": ""
            },
            "type": "choropleth"
           }
          ],
          "contour": [
           {
            "colorbar": {
             "outlinewidth": 0,
             "ticks": ""
            },
            "colorscale": [
             [
              0,
              "#0d0887"
             ],
             [
              0.1111111111111111,
              "#46039f"
             ],
             [
              0.2222222222222222,
              "#7201a8"
             ],
             [
              0.3333333333333333,
              "#9c179e"
             ],
             [
              0.4444444444444444,
              "#bd3786"
             ],
             [
              0.5555555555555556,
              "#d8576b"
             ],
             [
              0.6666666666666666,
              "#ed7953"
             ],
             [
              0.7777777777777778,
              "#fb9f3a"
             ],
             [
              0.8888888888888888,
              "#fdca26"
             ],
             [
              1,
              "#f0f921"
             ]
            ],
            "type": "contour"
           }
          ],
          "contourcarpet": [
           {
            "colorbar": {
             "outlinewidth": 0,
             "ticks": ""
            },
            "type": "contourcarpet"
           }
          ],
          "heatmap": [
           {
            "colorbar": {
             "outlinewidth": 0,
             "ticks": ""
            },
            "colorscale": [
             [
              0,
              "#0d0887"
             ],
             [
              0.1111111111111111,
              "#46039f"
             ],
             [
              0.2222222222222222,
              "#7201a8"
             ],
             [
              0.3333333333333333,
              "#9c179e"
             ],
             [
              0.4444444444444444,
              "#bd3786"
             ],
             [
              0.5555555555555556,
              "#d8576b"
             ],
             [
              0.6666666666666666,
              "#ed7953"
             ],
             [
              0.7777777777777778,
              "#fb9f3a"
             ],
             [
              0.8888888888888888,
              "#fdca26"
             ],
             [
              1,
              "#f0f921"
             ]
            ],
            "type": "heatmap"
           }
          ],
          "heatmapgl": [
           {
            "colorbar": {
             "outlinewidth": 0,
             "ticks": ""
            },
            "colorscale": [
             [
              0,
              "#0d0887"
             ],
             [
              0.1111111111111111,
              "#46039f"
             ],
             [
              0.2222222222222222,
              "#7201a8"
             ],
             [
              0.3333333333333333,
              "#9c179e"
             ],
             [
              0.4444444444444444,
              "#bd3786"
             ],
             [
              0.5555555555555556,
              "#d8576b"
             ],
             [
              0.6666666666666666,
              "#ed7953"
             ],
             [
              0.7777777777777778,
              "#fb9f3a"
             ],
             [
              0.8888888888888888,
              "#fdca26"
             ],
             [
              1,
              "#f0f921"
             ]
            ],
            "type": "heatmapgl"
           }
          ],
          "histogram": [
           {
            "marker": {
             "colorbar": {
              "outlinewidth": 0,
              "ticks": ""
             }
            },
            "type": "histogram"
           }
          ],
          "histogram2d": [
           {
            "colorbar": {
             "outlinewidth": 0,
             "ticks": ""
            },
            "colorscale": [
             [
              0,
              "#0d0887"
             ],
             [
              0.1111111111111111,
              "#46039f"
             ],
             [
              0.2222222222222222,
              "#7201a8"
             ],
             [
              0.3333333333333333,
              "#9c179e"
             ],
             [
              0.4444444444444444,
              "#bd3786"
             ],
             [
              0.5555555555555556,
              "#d8576b"
             ],
             [
              0.6666666666666666,
              "#ed7953"
             ],
             [
              0.7777777777777778,
              "#fb9f3a"
             ],
             [
              0.8888888888888888,
              "#fdca26"
             ],
             [
              1,
              "#f0f921"
             ]
            ],
            "type": "histogram2d"
           }
          ],
          "histogram2dcontour": [
           {
            "colorbar": {
             "outlinewidth": 0,
             "ticks": ""
            },
            "colorscale": [
             [
              0,
              "#0d0887"
             ],
             [
              0.1111111111111111,
              "#46039f"
             ],
             [
              0.2222222222222222,
              "#7201a8"
             ],
             [
              0.3333333333333333,
              "#9c179e"
             ],
             [
              0.4444444444444444,
              "#bd3786"
             ],
             [
              0.5555555555555556,
              "#d8576b"
             ],
             [
              0.6666666666666666,
              "#ed7953"
             ],
             [
              0.7777777777777778,
              "#fb9f3a"
             ],
             [
              0.8888888888888888,
              "#fdca26"
             ],
             [
              1,
              "#f0f921"
             ]
            ],
            "type": "histogram2dcontour"
           }
          ],
          "mesh3d": [
           {
            "colorbar": {
             "outlinewidth": 0,
             "ticks": ""
            },
            "type": "mesh3d"
           }
          ],
          "parcoords": [
           {
            "line": {
             "colorbar": {
              "outlinewidth": 0,
              "ticks": ""
             }
            },
            "type": "parcoords"
           }
          ],
          "scatter": [
           {
            "marker": {
             "colorbar": {
              "outlinewidth": 0,
              "ticks": ""
             }
            },
            "type": "scatter"
           }
          ],
          "scatter3d": [
           {
            "line": {
             "colorbar": {
              "outlinewidth": 0,
              "ticks": ""
             }
            },
            "marker": {
             "colorbar": {
              "outlinewidth": 0,
              "ticks": ""
             }
            },
            "type": "scatter3d"
           }
          ],
          "scattercarpet": [
           {
            "marker": {
             "colorbar": {
              "outlinewidth": 0,
              "ticks": ""
             }
            },
            "type": "scattercarpet"
           }
          ],
          "scattergeo": [
           {
            "marker": {
             "colorbar": {
              "outlinewidth": 0,
              "ticks": ""
             }
            },
            "type": "scattergeo"
           }
          ],
          "scattergl": [
           {
            "marker": {
             "colorbar": {
              "outlinewidth": 0,
              "ticks": ""
             }
            },
            "type": "scattergl"
           }
          ],
          "scattermapbox": [
           {
            "marker": {
             "colorbar": {
              "outlinewidth": 0,
              "ticks": ""
             }
            },
            "type": "scattermapbox"
           }
          ],
          "scatterpolar": [
           {
            "marker": {
             "colorbar": {
              "outlinewidth": 0,
              "ticks": ""
             }
            },
            "type": "scatterpolar"
           }
          ],
          "scatterpolargl": [
           {
            "marker": {
             "colorbar": {
              "outlinewidth": 0,
              "ticks": ""
             }
            },
            "type": "scatterpolargl"
           }
          ],
          "scatterternary": [
           {
            "marker": {
             "colorbar": {
              "outlinewidth": 0,
              "ticks": ""
             }
            },
            "type": "scatterternary"
           }
          ],
          "surface": [
           {
            "colorbar": {
             "outlinewidth": 0,
             "ticks": ""
            },
            "colorscale": [
             [
              0,
              "#0d0887"
             ],
             [
              0.1111111111111111,
              "#46039f"
             ],
             [
              0.2222222222222222,
              "#7201a8"
             ],
             [
              0.3333333333333333,
              "#9c179e"
             ],
             [
              0.4444444444444444,
              "#bd3786"
             ],
             [
              0.5555555555555556,
              "#d8576b"
             ],
             [
              0.6666666666666666,
              "#ed7953"
             ],
             [
              0.7777777777777778,
              "#fb9f3a"
             ],
             [
              0.8888888888888888,
              "#fdca26"
             ],
             [
              1,
              "#f0f921"
             ]
            ],
            "type": "surface"
           }
          ],
          "table": [
           {
            "cells": {
             "fill": {
              "color": "#EBF0F8"
             },
             "line": {
              "color": "white"
             }
            },
            "header": {
             "fill": {
              "color": "#C8D4E3"
             },
             "line": {
              "color": "white"
             }
            },
            "type": "table"
           }
          ]
         },
         "layout": {
          "annotationdefaults": {
           "arrowcolor": "#2a3f5f",
           "arrowhead": 0,
           "arrowwidth": 1
          },
          "colorscale": {
           "diverging": [
            [
             0,
             "#8e0152"
            ],
            [
             0.1,
             "#c51b7d"
            ],
            [
             0.2,
             "#de77ae"
            ],
            [
             0.3,
             "#f1b6da"
            ],
            [
             0.4,
             "#fde0ef"
            ],
            [
             0.5,
             "#f7f7f7"
            ],
            [
             0.6,
             "#e6f5d0"
            ],
            [
             0.7,
             "#b8e186"
            ],
            [
             0.8,
             "#7fbc41"
            ],
            [
             0.9,
             "#4d9221"
            ],
            [
             1,
             "#276419"
            ]
           ],
           "sequential": [
            [
             0,
             "#0d0887"
            ],
            [
             0.1111111111111111,
             "#46039f"
            ],
            [
             0.2222222222222222,
             "#7201a8"
            ],
            [
             0.3333333333333333,
             "#9c179e"
            ],
            [
             0.4444444444444444,
             "#bd3786"
            ],
            [
             0.5555555555555556,
             "#d8576b"
            ],
            [
             0.6666666666666666,
             "#ed7953"
            ],
            [
             0.7777777777777778,
             "#fb9f3a"
            ],
            [
             0.8888888888888888,
             "#fdca26"
            ],
            [
             1,
             "#f0f921"
            ]
           ],
           "sequentialminus": [
            [
             0,
             "#0d0887"
            ],
            [
             0.1111111111111111,
             "#46039f"
            ],
            [
             0.2222222222222222,
             "#7201a8"
            ],
            [
             0.3333333333333333,
             "#9c179e"
            ],
            [
             0.4444444444444444,
             "#bd3786"
            ],
            [
             0.5555555555555556,
             "#d8576b"
            ],
            [
             0.6666666666666666,
             "#ed7953"
            ],
            [
             0.7777777777777778,
             "#fb9f3a"
            ],
            [
             0.8888888888888888,
             "#fdca26"
            ],
            [
             1,
             "#f0f921"
            ]
           ]
          },
          "colorway": [
           "#636efa",
           "#EF553B",
           "#00cc96",
           "#ab63fa",
           "#FFA15A",
           "#19d3f3",
           "#FF6692",
           "#B6E880",
           "#FF97FF",
           "#FECB52"
          ],
          "font": {
           "color": "#2a3f5f"
          },
          "geo": {
           "bgcolor": "white",
           "lakecolor": "white",
           "landcolor": "#E5ECF6",
           "showlakes": true,
           "showland": true,
           "subunitcolor": "white"
          },
          "hoverlabel": {
           "align": "left"
          },
          "hovermode": "closest",
          "mapbox": {
           "style": "light"
          },
          "paper_bgcolor": "white",
          "plot_bgcolor": "#E5ECF6",
          "polar": {
           "angularaxis": {
            "gridcolor": "white",
            "linecolor": "white",
            "ticks": ""
           },
           "bgcolor": "#E5ECF6",
           "radialaxis": {
            "gridcolor": "white",
            "linecolor": "white",
            "ticks": ""
           }
          },
          "scene": {
           "xaxis": {
            "backgroundcolor": "#E5ECF6",
            "gridcolor": "white",
            "gridwidth": 2,
            "linecolor": "white",
            "showbackground": true,
            "ticks": "",
            "zerolinecolor": "white"
           },
           "yaxis": {
            "backgroundcolor": "#E5ECF6",
            "gridcolor": "white",
            "gridwidth": 2,
            "linecolor": "white",
            "showbackground": true,
            "ticks": "",
            "zerolinecolor": "white"
           },
           "zaxis": {
            "backgroundcolor": "#E5ECF6",
            "gridcolor": "white",
            "gridwidth": 2,
            "linecolor": "white",
            "showbackground": true,
            "ticks": "",
            "zerolinecolor": "white"
           }
          },
          "shapedefaults": {
           "line": {
            "color": "#2a3f5f"
           }
          },
          "ternary": {
           "aaxis": {
            "gridcolor": "white",
            "linecolor": "white",
            "ticks": ""
           },
           "baxis": {
            "gridcolor": "white",
            "linecolor": "white",
            "ticks": ""
           },
           "bgcolor": "#E5ECF6",
           "caxis": {
            "gridcolor": "white",
            "linecolor": "white",
            "ticks": ""
           }
          },
          "title": {
           "x": 0.05
          },
          "xaxis": {
           "automargin": true,
           "gridcolor": "white",
           "linecolor": "white",
           "ticks": "",
           "zerolinecolor": "white",
           "zerolinewidth": 2
          },
          "yaxis": {
           "automargin": true,
           "gridcolor": "white",
           "linecolor": "white",
           "ticks": "",
           "zerolinecolor": "white",
           "zerolinewidth": 2
          }
         }
        },
        "xaxis": {
         "title": {
          "text": "mean intensity [counts]"
         },
         "type": "log"
        },
        "yaxis": {
         "title": {
          "text": "standard deviation [counts]"
         },
         "type": "log"
        }
       },
       "_py2js_animate": {},
       "_py2js_deleteTraces": {},
       "_py2js_moveTraces": {},
       "_py2js_removeLayoutProps": {},
       "_py2js_removeTraceProps": {},
       "_view_count": 1
      }
     },
     "e482d47dcf2e430a9fcf585a6b29b921": {
      "buffers": [
       {
        "data": "QD72L3AKFkBQBoavOQEhQADatLn5yitAsBgDnOm/NkCQRcKBwepBQJDxdWaV8UpAjCg+2JORU0CUnUCQ/HRbQIJ0DETthmJAXuOw50xiaEAYuaxpA0xvQJqQbhVioXNAdLms4nYUeEAW8hDMPSJ9QFR4yn33OoFAi18RepwbhEBTZMzMTiGHQJaE/kRIO4pADnJXcipkjUA5I0O8bT2QQLJ8r55XxJFAGP4ACgdAk0D9QBxUSZWUQKyaFFrX3pVAtl0Crc3/lkBouRZr9vmXQBa274Tly5hABMXVbzxwmUCP3QO2G+eZQFA1dXEuNJpAicA+egZlmkA=",
        "encoding": "base64",
        "path": [
         "_data",
         0,
         "x",
         "value"
        ]
       },
       {
        "data": "7WstwLyG3D8ZoygjlInaP1TjPqctgdg/9ftG1l9w3z+gi8BYYwHjPxiBVw4XD+g/YLqHNRnC8j82KaksY0v1P2e3oE3QcPw/w2huF7vzAUCHHK80c48JQH05kyYBYhFAbLNLWcMBFEAc4cL7jRwXQHKM+DPd5RtAFT2kYqHdHkDqhOyCbtkhQDOcIIXU+SRAYkFSfS0yJkBR1q9O7g8pQNEWHAm8uSlAQjZICTAAL0C3srFQwmUxQF28xHYNsTFARPoAT65SNEBJqOhBSmA1QAYaq4XSzzNAH2/oZYg9NUDVVoLI3BE0QC+Gmrf7GjZAQhavDBoaNEA=",
        "encoding": "base64",
        "path": [
         "_data",
         0,
         "y",
         "value"
        ]
       }
      ],
      "model_module": "plotlywidget",
      "model_module_version": "^1.1.0",
      "model_name": "FigureModel",
      "state": {
       "_config": {
        "plotlyServerURL": "https://plot.ly"
       },
       "_data": [
        {
         "mode": "markers",
         "type": "scattergl",
         "uid": "cdaf3ac0-97f1-4c4d-830c-7f5a3d3e454c",
         "x": {
          "dtype": "float64",
          "shape": [
           31
          ]
         },
         "y": {
          "dtype": "float64",
          "shape": [
           31
          ]
         }
        }
       ],
       "_js2py_pointsCallback": {},
       "_js2py_relayout": {},
       "_js2py_restyle": {},
       "_js2py_update": {},
       "_last_layout_edit_id": 3,
       "_last_trace_edit_id": 3,
       "_layout": {
        "template": {
         "data": {
          "bar": [
           {
            "error_x": {
             "color": "#2a3f5f"
            },
            "error_y": {
             "color": "#2a3f5f"
            },
            "marker": {
             "line": {
              "color": "#E5ECF6",
              "width": 0.5
             }
            },
            "type": "bar"
           }
          ],
          "barpolar": [
           {
            "marker": {
             "line": {
              "color": "#E5ECF6",
              "width": 0.5
             }
            },
            "type": "barpolar"
           }
          ],
          "carpet": [
           {
            "aaxis": {
             "endlinecolor": "#2a3f5f",
             "gridcolor": "white",
             "linecolor": "white",
             "minorgridcolor": "white",
             "startlinecolor": "#2a3f5f"
            },
            "baxis": {
             "endlinecolor": "#2a3f5f",
             "gridcolor": "white",
             "linecolor": "white",
             "minorgridcolor": "white",
             "startlinecolor": "#2a3f5f"
            },
            "type": "carpet"
           }
          ],
          "choropleth": [
           {
            "colorbar": {
             "outlinewidth": 0,
             "ticks": ""
            },
            "type": "choropleth"
           }
          ],
          "contour": [
           {
            "colorbar": {
             "outlinewidth": 0,
             "ticks": ""
            },
            "colorscale": [
             [
              0,
              "#0d0887"
             ],
             [
              0.1111111111111111,
              "#46039f"
             ],
             [
              0.2222222222222222,
              "#7201a8"
             ],
             [
              0.3333333333333333,
              "#9c179e"
             ],
             [
              0.4444444444444444,
              "#bd3786"
             ],
             [
              0.5555555555555556,
              "#d8576b"
             ],
             [
              0.6666666666666666,
              "#ed7953"
             ],
             [
              0.7777777777777778,
              "#fb9f3a"
             ],
             [
              0.8888888888888888,
              "#fdca26"
             ],
             [
              1,
              "#f0f921"
             ]
            ],
            "type": "contour"
           }
          ],
          "contourcarpet": [
           {
            "colorbar": {
             "outlinewidth": 0,
             "ticks": ""
            },
            "type": "contourcarpet"
           }
          ],
          "heatmap": [
           {
            "colorbar": {
             "outlinewidth": 0,
             "ticks": ""
            },
            "colorscale": [
             [
              0,
              "#0d0887"
             ],
             [
              0.1111111111111111,
              "#46039f"
             ],
             [
              0.2222222222222222,
              "#7201a8"
             ],
             [
              0.3333333333333333,
              "#9c179e"
             ],
             [
              0.4444444444444444,
              "#bd3786"
             ],
             [
              0.5555555555555556,
              "#d8576b"
             ],
             [
              0.6666666666666666,
              "#ed7953"
             ],
             [
              0.7777777777777778,
              "#fb9f3a"
             ],
             [
              0.8888888888888888,
              "#fdca26"
             ],
             [
              1,
              "#f0f921"
             ]
            ],
            "type": "heatmap"
           }
          ],
          "heatmapgl": [
           {
            "colorbar": {
             "outlinewidth": 0,
             "ticks": ""
            },
            "colorscale": [
             [
              0,
              "#0d0887"
             ],
             [
              0.1111111111111111,
              "#46039f"
             ],
             [
              0.2222222222222222,
              "#7201a8"
             ],
             [
              0.3333333333333333,
              "#9c179e"
             ],
             [
              0.4444444444444444,
              "#bd3786"
             ],
             [
              0.5555555555555556,
              "#d8576b"
             ],
             [
              0.6666666666666666,
              "#ed7953"
             ],
             [
              0.7777777777777778,
              "#fb9f3a"
             ],
             [
              0.8888888888888888,
              "#fdca26"
             ],
             [
              1,
              "#f0f921"
             ]
            ],
            "type": "heatmapgl"
           }
          ],
          "histogram": [
           {
            "marker": {
             "colorbar": {
              "outlinewidth": 0,
              "ticks": ""
             }
            },
            "type": "histogram"
           }
          ],
          "histogram2d": [
           {
            "colorbar": {
             "outlinewidth": 0,
             "ticks": ""
            },
            "colorscale": [
             [
              0,
              "#0d0887"
             ],
             [
              0.1111111111111111,
              "#46039f"
             ],
             [
              0.2222222222222222,
              "#7201a8"
             ],
             [
              0.3333333333333333,
              "#9c179e"
             ],
             [
              0.4444444444444444,
              "#bd3786"
             ],
             [
              0.5555555555555556,
              "#d8576b"
             ],
             [
              0.6666666666666666,
              "#ed7953"
             ],
             [
              0.7777777777777778,
              "#fb9f3a"
             ],
             [
              0.8888888888888888,
              "#fdca26"
             ],
             [
              1,
              "#f0f921"
             ]
            ],
            "type": "histogram2d"
           }
          ],
          "histogram2dcontour": [
           {
            "colorbar": {
             "outlinewidth": 0,
             "ticks": ""
            },
            "colorscale": [
             [
              0,
              "#0d0887"
             ],
             [
              0.1111111111111111,
              "#46039f"
             ],
             [
              0.2222222222222222,
              "#7201a8"
             ],
             [
              0.3333333333333333,
              "#9c179e"
             ],
             [
              0.4444444444444444,
              "#bd3786"
             ],
             [
              0.5555555555555556,
              "#d8576b"
             ],
             [
              0.6666666666666666,
              "#ed7953"
             ],
             [
              0.7777777777777778,
              "#fb9f3a"
             ],
             [
              0.8888888888888888,
              "#fdca26"
             ],
             [
              1,
              "#f0f921"
             ]
            ],
            "type": "histogram2dcontour"
           }
          ],
          "mesh3d": [
           {
            "colorbar": {
             "outlinewidth": 0,
             "ticks": ""
            },
            "type": "mesh3d"
           }
          ],
          "parcoords": [
           {
            "line": {
             "colorbar": {
              "outlinewidth": 0,
              "ticks": ""
             }
            },
            "type": "parcoords"
           }
          ],
          "scatter": [
           {
            "marker": {
             "colorbar": {
              "outlinewidth": 0,
              "ticks": ""
             }
            },
            "type": "scatter"
           }
          ],
          "scatter3d": [
           {
            "line": {
             "colorbar": {
              "outlinewidth": 0,
              "ticks": ""
             }
            },
            "marker": {
             "colorbar": {
              "outlinewidth": 0,
              "ticks": ""
             }
            },
            "type": "scatter3d"
           }
          ],
          "scattercarpet": [
           {
            "marker": {
             "colorbar": {
              "outlinewidth": 0,
              "ticks": ""
             }
            },
            "type": "scattercarpet"
           }
          ],
          "scattergeo": [
           {
            "marker": {
             "colorbar": {
              "outlinewidth": 0,
              "ticks": ""
             }
            },
            "type": "scattergeo"
           }
          ],
          "scattergl": [
           {
            "marker": {
             "colorbar": {
              "outlinewidth": 0,
              "ticks": ""
             }
            },
            "type": "scattergl"
           }
          ],
          "scattermapbox": [
           {
            "marker": {
             "colorbar": {
              "outlinewidth": 0,
              "ticks": ""
             }
            },
            "type": "scattermapbox"
           }
          ],
          "scatterpolar": [
           {
            "marker": {
             "colorbar": {
              "outlinewidth": 0,
              "ticks": ""
             }
            },
            "type": "scatterpolar"
           }
          ],
          "scatterpolargl": [
           {
            "marker": {
             "colorbar": {
              "outlinewidth": 0,
              "ticks": ""
             }
            },
            "type": "scatterpolargl"
           }
          ],
          "scatterternary": [
           {
            "marker": {
             "colorbar": {
              "outlinewidth": 0,
              "ticks": ""
             }
            },
            "type": "scatterternary"
           }
          ],
          "surface": [
           {
            "colorbar": {
             "outlinewidth": 0,
             "ticks": ""
            },
            "colorscale": [
             [
              0,
              "#0d0887"
             ],
             [
              0.1111111111111111,
              "#46039f"
             ],
             [
              0.2222222222222222,
              "#7201a8"
             ],
             [
              0.3333333333333333,
              "#9c179e"
             ],
             [
              0.4444444444444444,
              "#bd3786"
             ],
             [
              0.5555555555555556,
              "#d8576b"
             ],
             [
              0.6666666666666666,
              "#ed7953"
             ],
             [
              0.7777777777777778,
              "#fb9f3a"
             ],
             [
              0.8888888888888888,
              "#fdca26"
             ],
             [
              1,
              "#f0f921"
             ]
            ],
            "type": "surface"
           }
          ],
          "table": [
           {
            "cells": {
             "fill": {
              "color": "#EBF0F8"
             },
             "line": {
              "color": "white"
             }
            },
            "header": {
             "fill": {
              "color": "#C8D4E3"
             },
             "line": {
              "color": "white"
             }
            },
            "type": "table"
           }
          ]
         },
         "layout": {
          "annotationdefaults": {
           "arrowcolor": "#2a3f5f",
           "arrowhead": 0,
           "arrowwidth": 1
          },
          "colorscale": {
           "diverging": [
            [
             0,
             "#8e0152"
            ],
            [
             0.1,
             "#c51b7d"
            ],
            [
             0.2,
             "#de77ae"
            ],
            [
             0.3,
             "#f1b6da"
            ],
            [
             0.4,
             "#fde0ef"
            ],
            [
             0.5,
             "#f7f7f7"
            ],
            [
             0.6,
             "#e6f5d0"
            ],
            [
             0.7,
             "#b8e186"
            ],
            [
             0.8,
             "#7fbc41"
            ],
            [
             0.9,
             "#4d9221"
            ],
            [
             1,
             "#276419"
            ]
           ],
           "sequential": [
            [
             0,
             "#0d0887"
            ],
            [
             0.1111111111111111,
             "#46039f"
            ],
            [
             0.2222222222222222,
             "#7201a8"
            ],
            [
             0.3333333333333333,
             "#9c179e"
            ],
            [
             0.4444444444444444,
             "#bd3786"
            ],
            [
             0.5555555555555556,
             "#d8576b"
            ],
            [
             0.6666666666666666,
             "#ed7953"
            ],
            [
             0.7777777777777778,
             "#fb9f3a"
            ],
            [
             0.8888888888888888,
             "#fdca26"
            ],
            [
             1,
             "#f0f921"
            ]
           ],
           "sequentialminus": [
            [
             0,
             "#0d0887"
            ],
            [
             0.1111111111111111,
             "#46039f"
            ],
            [
             0.2222222222222222,
             "#7201a8"
            ],
            [
             0.3333333333333333,
             "#9c179e"
            ],
            [
             0.4444444444444444,
             "#bd3786"
            ],
            [
             0.5555555555555556,
             "#d8576b"
            ],
            [
             0.6666666666666666,
             "#ed7953"
            ],
            [
             0.7777777777777778,
             "#fb9f3a"
            ],
            [
             0.8888888888888888,
             "#fdca26"
            ],
            [
             1,
             "#f0f921"
            ]
           ]
          },
          "colorway": [
           "#636efa",
           "#EF553B",
           "#00cc96",
           "#ab63fa",
           "#FFA15A",
           "#19d3f3",
           "#FF6692",
           "#B6E880",
           "#FF97FF",
           "#FECB52"
          ],
          "font": {
           "color": "#2a3f5f"
          },
          "geo": {
           "bgcolor": "white",
           "lakecolor": "white",
           "landcolor": "#E5ECF6",
           "showlakes": true,
           "showland": true,
           "subunitcolor": "white"
          },
          "hoverlabel": {
           "align": "left"
          },
          "hovermode": "closest",
          "mapbox": {
           "style": "light"
          },
          "paper_bgcolor": "white",
          "plot_bgcolor": "#E5ECF6",
          "polar": {
           "angularaxis": {
            "gridcolor": "white",
            "linecolor": "white",
            "ticks": ""
           },
           "bgcolor": "#E5ECF6",
           "radialaxis": {
            "gridcolor": "white",
            "linecolor": "white",
            "ticks": ""
           }
          },
          "scene": {
           "xaxis": {
            "backgroundcolor": "#E5ECF6",
            "gridcolor": "white",
            "gridwidth": 2,
            "linecolor": "white",
            "showbackground": true,
            "ticks": "",
            "zerolinecolor": "white"
           },
           "yaxis": {
            "backgroundcolor": "#E5ECF6",
            "gridcolor": "white",
            "gridwidth": 2,
            "linecolor": "white",
            "showbackground": true,
            "ticks": "",
            "zerolinecolor": "white"
           },
           "zaxis": {
            "backgroundcolor": "#E5ECF6",
            "gridcolor": "white",
            "gridwidth": 2,
            "linecolor": "white",
            "showbackground": true,
            "ticks": "",
            "zerolinecolor": "white"
           }
          },
          "shapedefaults": {
           "line": {
            "color": "#2a3f5f"
           }
          },
          "ternary": {
           "aaxis": {
            "gridcolor": "white",
            "linecolor": "white",
            "ticks": ""
           },
           "baxis": {
            "gridcolor": "white",
            "linecolor": "white",
            "ticks": ""
           },
           "bgcolor": "#E5ECF6",
           "caxis": {
            "gridcolor": "white",
            "linecolor": "white",
            "ticks": ""
           }
          },
          "title": {
           "x": 0.05
          },
          "xaxis": {
           "automargin": true,
           "gridcolor": "white",
           "linecolor": "white",
           "ticks": "",
           "zerolinecolor": "white",
           "zerolinewidth": 2
          },
          "yaxis": {
           "automargin": true,
           "gridcolor": "white",
           "linecolor": "white",
           "ticks": "",
           "zerolinecolor": "white",
           "zerolinewidth": 2
          }
         }
        },
        "xaxis": {
         "title": {
          "text": "mean accumulated intensity [counts/pixel]"
         }
        },
        "yaxis": {
         "title": {
          "text": "standard deviation [counts/pixel]"
         }
        }
       },
       "_py2js_animate": {},
       "_py2js_deleteTraces": {},
       "_py2js_moveTraces": {},
       "_py2js_removeLayoutProps": {},
       "_py2js_removeTraceProps": {},
       "_py2js_restyle": {},
       "_view_count": 1
      }
     },
     "f1f42c4986ea416da631b6673b564da0": {
      "buffers": [
       {
        "data": "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",
        "encoding": "base64",
        "path": [
         "_data",
         0,
         "x",
         "value"
        ]
       }
      ],
      "model_module": "plotlywidget",
      "model_module_version": "^1.1.0",
      "model_name": "FigureModel",
      "state": {
       "_config": {
        "plotlyServerURL": "https://plot.ly"
       },
       "_data": [
        {
         "nbinsx": 400,
         "type": "histogram",
         "uid": "9d067ef3-ea60-49d9-9c9a-17903698f739",
         "x": {
          "dtype": "float64",
          "shape": [
           3411
          ]
         }
        }
       ],
       "_js2py_pointsCallback": {},
       "_js2py_relayout": {},
       "_js2py_restyle": {},
       "_js2py_update": {},
       "_last_layout_edit_id": 3,
       "_last_trace_edit_id": 3,
       "_layout": {
        "template": {
         "data": {
          "bar": [
           {
            "error_x": {
             "color": "#2a3f5f"
            },
            "error_y": {
             "color": "#2a3f5f"
            },
            "marker": {
             "line": {
              "color": "#E5ECF6",
              "width": 0.5
             }
            },
            "type": "bar"
           }
          ],
          "barpolar": [
           {
            "marker": {
             "line": {
              "color": "#E5ECF6",
              "width": 0.5
             }
            },
            "type": "barpolar"
           }
          ],
          "carpet": [
           {
            "aaxis": {
             "endlinecolor": "#2a3f5f",
             "gridcolor": "white",
             "linecolor": "white",
             "minorgridcolor": "white",
             "startlinecolor": "#2a3f5f"
            },
            "baxis": {
             "endlinecolor": "#2a3f5f",
             "gridcolor": "white",
             "linecolor": "white",
             "minorgridcolor": "white",
             "startlinecolor": "#2a3f5f"
            },
            "type": "carpet"
           }
          ],
          "choropleth": [
           {
            "colorbar": {
             "outlinewidth": 0,
             "ticks": ""
            },
            "type": "choropleth"
           }
          ],
          "contour": [
           {
            "colorbar": {
             "outlinewidth": 0,
             "ticks": ""
            },
            "colorscale": [
             [
              0,
              "#0d0887"
             ],
             [
              0.1111111111111111,
              "#46039f"
             ],
             [
              0.2222222222222222,
              "#7201a8"
             ],
             [
              0.3333333333333333,
              "#9c179e"
             ],
             [
              0.4444444444444444,
              "#bd3786"
             ],
             [
              0.5555555555555556,
              "#d8576b"
             ],
             [
              0.6666666666666666,
              "#ed7953"
             ],
             [
              0.7777777777777778,
              "#fb9f3a"
             ],
             [
              0.8888888888888888,
              "#fdca26"
             ],
             [
              1,
              "#f0f921"
             ]
            ],
            "type": "contour"
           }
          ],
          "contourcarpet": [
           {
            "colorbar": {
             "outlinewidth": 0,
             "ticks": ""
            },
            "type": "contourcarpet"
           }
          ],
          "heatmap": [
           {
            "colorbar": {
             "outlinewidth": 0,
             "ticks": ""
            },
            "colorscale": [
             [
              0,
              "#0d0887"
             ],
             [
              0.1111111111111111,
              "#46039f"
             ],
             [
              0.2222222222222222,
              "#7201a8"
             ],
             [
              0.3333333333333333,
              "#9c179e"
             ],
             [
              0.4444444444444444,
              "#bd3786"
             ],
             [
              0.5555555555555556,
              "#d8576b"
             ],
             [
              0.6666666666666666,
              "#ed7953"
             ],
             [
              0.7777777777777778,
              "#fb9f3a"
             ],
             [
              0.8888888888888888,
              "#fdca26"
             ],
             [
              1,
              "#f0f921"
             ]
            ],
            "type": "heatmap"
           }
          ],
          "heatmapgl": [
           {
            "colorbar": {
             "outlinewidth": 0,
             "ticks": ""
            },
            "colorscale": [
             [
              0,
              "#0d0887"
             ],
             [
              0.1111111111111111,
              "#46039f"
             ],
             [
              0.2222222222222222,
              "#7201a8"
             ],
             [
              0.3333333333333333,
              "#9c179e"
             ],
             [
              0.4444444444444444,
              "#bd3786"
             ],
             [
              0.5555555555555556,
              "#d8576b"
             ],
             [
              0.6666666666666666,
              "#ed7953"
             ],
             [
              0.7777777777777778,
              "#fb9f3a"
             ],
             [
              0.8888888888888888,
              "#fdca26"
             ],
             [
              1,
              "#f0f921"
             ]
            ],
            "type": "heatmapgl"
           }
          ],
          "histogram": [
           {
            "marker": {
             "colorbar": {
              "outlinewidth": 0,
              "ticks": ""
             }
            },
            "type": "histogram"
           }
          ],
          "histogram2d": [
           {
            "colorbar": {
             "outlinewidth": 0,
             "ticks": ""
            },
            "colorscale": [
             [
              0,
              "#0d0887"
             ],
             [
              0.1111111111111111,
              "#46039f"
             ],
             [
              0.2222222222222222,
              "#7201a8"
             ],
             [
              0.3333333333333333,
              "#9c179e"
             ],
             [
              0.4444444444444444,
              "#bd3786"
             ],
             [
              0.5555555555555556,
              "#d8576b"
             ],
             [
              0.6666666666666666,
              "#ed7953"
             ],
             [
              0.7777777777777778,
              "#fb9f3a"
             ],
             [
              0.8888888888888888,
              "#fdca26"
             ],
             [
              1,
              "#f0f921"
             ]
            ],
            "type": "histogram2d"
           }
          ],
          "histogram2dcontour": [
           {
            "colorbar": {
             "outlinewidth": 0,
             "ticks": ""
            },
            "colorscale": [
             [
              0,
              "#0d0887"
             ],
             [
              0.1111111111111111,
              "#46039f"
             ],
             [
              0.2222222222222222,
              "#7201a8"
             ],
             [
              0.3333333333333333,
              "#9c179e"
             ],
             [
              0.4444444444444444,
              "#bd3786"
             ],
             [
              0.5555555555555556,
              "#d8576b"
             ],
             [
              0.6666666666666666,
              "#ed7953"
             ],
             [
              0.7777777777777778,
              "#fb9f3a"
             ],
             [
              0.8888888888888888,
              "#fdca26"
             ],
             [
              1,
              "#f0f921"
             ]
            ],
            "type": "histogram2dcontour"
           }
          ],
          "mesh3d": [
           {
            "colorbar": {
             "outlinewidth": 0,
             "ticks": ""
            },
            "type": "mesh3d"
           }
          ],
          "parcoords": [
           {
            "line": {
             "colorbar": {
              "outlinewidth": 0,
              "ticks": ""
             }
            },
            "type": "parcoords"
           }
          ],
          "scatter": [
           {
            "marker": {
             "colorbar": {
              "outlinewidth": 0,
              "ticks": ""
             }
            },
            "type": "scatter"
           }
          ],
          "scatter3d": [
           {
            "line": {
             "colorbar": {
              "outlinewidth": 0,
              "ticks": ""
             }
            },
            "marker": {
             "colorbar": {
              "outlinewidth": 0,
              "ticks": ""
             }
            },
            "type": "scatter3d"
           }
          ],
          "scattercarpet": [
           {
            "marker": {
             "colorbar": {
              "outlinewidth": 0,
              "ticks": ""
             }
            },
            "type": "scattercarpet"
           }
          ],
          "scattergeo": [
           {
            "marker": {
             "colorbar": {
              "outlinewidth": 0,
              "ticks": ""
             }
            },
            "type": "scattergeo"
           }
          ],
          "scattergl": [
           {
            "marker": {
             "colorbar": {
              "outlinewidth": 0,
              "ticks": ""
             }
            },
            "type": "scattergl"
           }
          ],
          "scattermapbox": [
           {
            "marker": {
             "colorbar": {
              "outlinewidth": 0,
              "ticks": ""
             }
            },
            "type": "scattermapbox"
           }
          ],
          "scatterpolar": [
           {
            "marker": {
             "colorbar": {
              "outlinewidth": 0,
              "ticks": ""
             }
            },
            "type": "scatterpolar"
           }
          ],
          "scatterpolargl": [
           {
            "marker": {
             "colorbar": {
              "outlinewidth": 0,
              "ticks": ""
             }
            },
            "type": "scatterpolargl"
           }
          ],
          "scatterternary": [
           {
            "marker": {
             "colorbar": {
              "outlinewidth": 0,
              "ticks": ""
             }
            },
            "type": "scatterternary"
           }
          ],
          "surface": [
           {
            "colorbar": {
             "outlinewidth": 0,
             "ticks": ""
            },
            "colorscale": [
             [
              0,
              "#0d0887"
             ],
             [
              0.1111111111111111,
              "#46039f"
             ],
             [
              0.2222222222222222,
              "#7201a8"
             ],
             [
              0.3333333333333333,
              "#9c179e"
             ],
             [
              0.4444444444444444,
              "#bd3786"
             ],
             [
              0.5555555555555556,
              "#d8576b"
             ],
             [
              0.6666666666666666,
              "#ed7953"
             ],
             [
              0.7777777777777778,
              "#fb9f3a"
             ],
             [
              0.8888888888888888,
              "#fdca26"
             ],
             [
              1,
              "#f0f921"
             ]
            ],
            "type": "surface"
           }
          ],
          "table": [
           {
            "cells": {
             "fill": {
              "color": "#EBF0F8"
             },
             "line": {
              "color": "white"
             }
            },
            "header": {
             "fill": {
              "color": "#C8D4E3"
             },
             "line": {
              "color": "white"
             }
            },
            "type": "table"
           }
          ]
         },
         "layout": {
          "annotationdefaults": {
           "arrowcolor": "#2a3f5f",
           "arrowhead": 0,
           "arrowwidth": 1
          },
          "colorscale": {
           "diverging": [
            [
             0,
             "#8e0152"
            ],
            [
             0.1,
             "#c51b7d"
            ],
            [
             0.2,
             "#de77ae"
            ],
            [
             0.3,
             "#f1b6da"
            ],
            [
             0.4,
             "#fde0ef"
            ],
            [
             0.5,
             "#f7f7f7"
            ],
            [
             0.6,
             "#e6f5d0"
            ],
            [
             0.7,
             "#b8e186"
            ],
            [
             0.8,
             "#7fbc41"
            ],
            [
             0.9,
             "#4d9221"
            ],
            [
             1,
             "#276419"
            ]
           ],
           "sequential": [
            [
             0,
             "#0d0887"
            ],
            [
             0.1111111111111111,
             "#46039f"
            ],
            [
             0.2222222222222222,
             "#7201a8"
            ],
            [
             0.3333333333333333,
             "#9c179e"
            ],
            [
             0.4444444444444444,
             "#bd3786"
            ],
            [
             0.5555555555555556,
             "#d8576b"
            ],
            [
             0.6666666666666666,
             "#ed7953"
            ],
            [
             0.7777777777777778,
             "#fb9f3a"
            ],
            [
             0.8888888888888888,
             "#fdca26"
            ],
            [
             1,
             "#f0f921"
            ]
           ],
           "sequentialminus": [
            [
             0,
             "#0d0887"
            ],
            [
             0.1111111111111111,
             "#46039f"
            ],
            [
             0.2222222222222222,
             "#7201a8"
            ],
            [
             0.3333333333333333,
             "#9c179e"
            ],
            [
             0.4444444444444444,
             "#bd3786"
            ],
            [
             0.5555555555555556,
             "#d8576b"
            ],
            [
             0.6666666666666666,
             "#ed7953"
            ],
            [
             0.7777777777777778,
             "#fb9f3a"
            ],
            [
             0.8888888888888888,
             "#fdca26"
            ],
            [
             1,
             "#f0f921"
            ]
           ]
          },
          "colorway": [
           "#636efa",
           "#EF553B",
           "#00cc96",
           "#ab63fa",
           "#FFA15A",
           "#19d3f3",
           "#FF6692",
           "#B6E880",
           "#FF97FF",
           "#FECB52"
          ],
          "font": {
           "color": "#2a3f5f"
          },
          "geo": {
           "bgcolor": "white",
           "lakecolor": "white",
           "landcolor": "#E5ECF6",
           "showlakes": true,
           "showland": true,
           "subunitcolor": "white"
          },
          "hoverlabel": {
           "align": "left"
          },
          "hovermode": "closest",
          "mapbox": {
           "style": "light"
          },
          "paper_bgcolor": "white",
          "plot_bgcolor": "#E5ECF6",
          "polar": {
           "angularaxis": {
            "gridcolor": "white",
            "linecolor": "white",
            "ticks": ""
           },
           "bgcolor": "#E5ECF6",
           "radialaxis": {
            "gridcolor": "white",
            "linecolor": "white",
            "ticks": ""
           }
          },
          "scene": {
           "xaxis": {
            "backgroundcolor": "#E5ECF6",
            "gridcolor": "white",
            "gridwidth": 2,
            "linecolor": "white",
            "showbackground": true,
            "ticks": "",
            "zerolinecolor": "white"
           },
           "yaxis": {
            "backgroundcolor": "#E5ECF6",
            "gridcolor": "white",
            "gridwidth": 2,
            "linecolor": "white",
            "showbackground": true,
            "ticks": "",
            "zerolinecolor": "white"
           },
           "zaxis": {
            "backgroundcolor": "#E5ECF6",
            "gridcolor": "white",
            "gridwidth": 2,
            "linecolor": "white",
            "showbackground": true,
            "ticks": "",
            "zerolinecolor": "white"
           }
          },
          "shapedefaults": {
           "line": {
            "color": "#2a3f5f"
           }
          },
          "ternary": {
           "aaxis": {
            "gridcolor": "white",
            "linecolor": "white",
            "ticks": ""
           },
           "baxis": {
            "gridcolor": "white",
            "linecolor": "white",
            "ticks": ""
           },
           "bgcolor": "#E5ECF6",
           "caxis": {
            "gridcolor": "white",
            "linecolor": "white",
            "ticks": ""
           }
          },
          "title": {
           "x": 0.05
          },
          "xaxis": {
           "automargin": true,
           "gridcolor": "white",
           "linecolor": "white",
           "ticks": "",
           "zerolinecolor": "white",
           "zerolinewidth": 2
          },
          "yaxis": {
           "automargin": true,
           "gridcolor": "white",
           "linecolor": "white",
           "ticks": "",
           "zerolinecolor": "white",
           "zerolinewidth": 2
          }
         }
        },
        "xaxis": {
         "title": {
          "text": "accumulated intensity [counts/pixel]"
         }
        },
        "yaxis": {
         "title": {
          "text": "# shots"
         }
        }
       },
       "_py2js_animate": {},
       "_py2js_deleteTraces": {},
       "_py2js_moveTraces": {},
       "_py2js_removeLayoutProps": {},
       "_py2js_removeTraceProps": {},
       "_py2js_restyle": {},
       "_view_count": 1
      }
     }
    },
    "version_major": 2,
    "version_minor": 0
   }
  }
 },
 "nbformat": 4,
 "nbformat_minor": 4
}
